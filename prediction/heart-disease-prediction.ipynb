{
 "cells": [
  {
   "cell_type": "code",
   "execution_count": 1,
   "metadata": {
    "isConfigCell": true,
    "tags": [
     "parameters"
    ]
   },
   "outputs": [],
   "source": [
    "#Enter bucket name\n",
    "bucket = 'sagemaker-ml-pipeline'\n",
    "prefix = 'sagemaker/heart'\n",
    "\n",
    "#Enter data file name (e.g. heart.csv)\n",
    "data_key = 'data.csv'\n",
    "data_location = 's3://{}/{}'.format(bucket, data_key)\n",
    " \n",
    "# Define IAM role\n",
    "import boto3\n",
    "import re\n",
    "from sagemaker import get_execution_role\n",
    "\n",
    "role = get_execution_role()"
   ]
  },
  {
   "cell_type": "code",
   "execution_count": 1,
   "metadata": {},
   "outputs": [],
   "source": [
    "import pandas as pd\n",
    "import json\n",
    "\n",
    "# read the data from S3\n",
    "heart_data = pd.read_csv(data_location)\n",
    "\n",
    "#print out a sample of data.\n",
    "# heart_data.head()"
   ]
  },
  {
   "cell_type": "code",
   "execution_count": 3,
   "metadata": {},
   "outputs": [
    {
     "name": "stdout",
     "output_type": "stream",
     "text": [
      "label data is\n",
      "[1. 1. 1. 1. 1. 1. 1. 1. 1. 1. 1. 1. 1. 1. 1. 1. 1. 1. 1. 1. 1. 1. 1. 1.\n",
      " 1. 1. 1. 1. 1. 1. 1. 1. 1. 1. 1. 1. 1. 1. 1. 1. 1. 1. 1. 1. 1. 1. 1. 1.\n",
      " 1. 1. 1. 1. 1. 1. 1. 1. 1. 1. 1. 1. 1. 1. 1. 1. 1. 1. 1. 1. 1. 1. 1. 1.\n",
      " 1. 1. 1. 1. 1. 1. 1. 1. 1. 1. 1. 1. 1. 1. 1. 1. 1. 1. 1. 1. 1. 1. 1. 1.\n",
      " 1. 1. 1. 1. 1. 1. 1. 1. 1. 1. 1. 1. 1. 1. 1. 1. 1. 1. 1. 1. 1. 1. 1. 1.\n",
      " 1. 1. 1. 1. 1. 1. 1. 1. 1. 1. 1. 1. 1. 1. 1. 1. 1. 1. 1. 1. 1. 1. 1. 1.\n",
      " 1. 1. 1. 1. 1. 1. 1. 1. 1. 1. 1. 1. 1. 1. 1. 1. 1. 1. 1. 1. 1. 0. 0. 0.\n",
      " 0. 0. 0. 0. 0. 0. 0. 0. 0. 0. 0. 0. 0. 0. 0. 0. 0. 0. 0. 0. 0. 0. 0. 0.\n",
      " 0. 0. 0. 0. 0. 0. 0. 0. 0. 0. 0. 0. 0. 0. 0. 0. 0. 0. 0. 0. 0. 0. 0. 0.\n",
      " 0. 0. 0. 0. 0. 0. 0. 0. 0. 0. 0. 0. 0. 0. 0. 0. 0. 0. 0. 0. 0. 0. 0. 0.\n",
      " 0. 0. 0. 0. 0. 0. 0. 0. 0. 0. 0. 0. 0. 0. 0. 0. 0. 0. 0. 0. 0. 0. 0. 0.\n",
      " 0. 0. 0. 0. 0. 0. 0. 0. 0. 0. 0. 0. 0. 0. 0. 0. 0. 0. 0. 0. 0. 0. 0. 0.\n",
      " 0. 0. 0. 0. 0. 0. 0. 0. 0. 0. 0. 0. 0. 0. 0.]\n",
      "Training data is\n",
      "[[63.  1.  3. ...  0.  0.  1.]\n",
      " [37.  1.  2. ...  0.  0.  2.]\n",
      " [41.  0.  1. ...  2.  0.  2.]\n",
      " ...\n",
      " [68.  1.  0. ...  1.  2.  3.]\n",
      " [57.  1.  0. ...  1.  1.  3.]\n",
      " [57.  0.  1. ...  1.  1.  2.]]\n"
     ]
    }
   ],
   "source": [
    "import numpy as np\n",
    "vectors = np.array(heart_data).astype('float32')\n",
    "\n",
    "#target column - value must be either 0 or 1\n",
    "labels = vectors[:,13]\n",
    "print (\"label data is\")\n",
    "print (labels)\n",
    "\n",
    "\n",
    "#drop the target column.  Use the features as part of the training data\n",
    "training_data = vectors[:, :10]\n",
    "\n"
   ]
  },
  {
   "cell_type": "markdown",
   "metadata": {},
   "source": [
    "Let's go ahead and upload the training data to S3"
   ]
  },
  {
   "cell_type": "code",
   "execution_count": 4,
   "metadata": {},
   "outputs": [
    {
     "name": "stderr",
     "output_type": "stream",
     "text": [
      "/home/ec2-user/anaconda3/envs/python3/lib/python3.6/site-packages/boto3/compat.py:88: PythonDeprecationWarning: Boto3 will no longer support Python 3.6 starting May 30, 2022. To continue receiving service updates, bug fixes, and security updates please upgrade to Python 3.7 or later. More information can be found here: https://aws.amazon.com/blogs/developer/python-support-policy-updates-for-aws-sdks-and-tools/\n",
      "  warnings.warn(warning, PythonDeprecationWarning)\n"
     ]
    },
    {
     "name": "stdout",
     "output_type": "stream",
     "text": [
      "uploaded training data location: s3://sagemaker-ml-pipeline/sagemaker/heart/train/recordio-pb-data\n"
     ]
    }
   ],
   "source": [
    "import io\n",
    "import os\n",
    "import sagemaker.amazon.common as smac\n",
    "\n",
    "buf = io.BytesIO()\n",
    "smac.write_numpy_to_dense_tensor(buf, training_data, labels)\n",
    "buf.seek(0)\n",
    "\n",
    "key = 'prediction-node-data'\n",
    "boto3.resource('s3').Bucket(bucket).Object(os.path.join(prefix, 'train', key)).upload_fileobj(buf)\n",
    "s3_train_data = 's3://{}/{}/train/{}'.format(bucket, prefix, key)\n",
    "print('uploaded training data location: {}'.format(s3_train_data))\n",
    "\n",
    "\n"
   ]
  },
  {
   "cell_type": "markdown",
   "metadata": {},
   "source": [
    "## Training Artifacts\n",
    "Once data is trained, it will be uploaded to the following location."
   ]
  },
  {
   "cell_type": "code",
   "execution_count": 5,
   "metadata": {
    "scrolled": true
   },
   "outputs": [
    {
     "name": "stdout",
     "output_type": "stream",
     "text": [
      "training artifacts will be uploaded to: s3://sagemaker-ml-pipeline/sagemaker/heart/output\n"
     ]
    }
   ],
   "source": [
    "output_location = 's3://{}/{}/output'.format(bucket, prefix)\n",
    "print('training artifacts will be uploaded to: {}'.format(output_location))"
   ]
  },
  {
   "cell_type": "markdown",
   "metadata": {},
   "source": [
    "We will do a binary classification (patient either has heart disease or not), train the model on the specified compute (e.g. c4.xlarge), and we will sepcify the features or dimiensions in our training set."
   ]
  },
  {
   "cell_type": "code",
   "execution_count": 6,
   "metadata": {},
   "outputs": [
    {
     "name": "stderr",
     "output_type": "stream",
     "text": [
      "The method get_image_uri has been renamed in sagemaker>=2.\n",
      "See: https://sagemaker.readthedocs.io/en/stable/v2.html for details.\n",
      "Defaulting to the only supported framework/algorithm version: 1. Ignoring framework/algorithm version: latest.\n",
      "train_instance_count has been renamed in sagemaker>=2.\n",
      "See: https://sagemaker.readthedocs.io/en/stable/v2.html for details.\n",
      "train_instance_type has been renamed in sagemaker>=2.\n",
      "See: https://sagemaker.readthedocs.io/en/stable/v2.html for details.\n"
     ]
    },
    {
     "name": "stdout",
     "output_type": "stream",
     "text": [
      "2022-04-26 23:48:54 Starting - Starting the training job...\n",
      "2022-04-26 23:49:21 Starting - Preparing the instances for trainingProfilerReport-1651016934: InProgress\n",
      ".........\n",
      "2022-04-26 23:50:47 Downloading - Downloading input data...\n",
      "2022-04-26 23:51:23 Training - Downloading the training image...\n",
      "2022-04-26 23:51:54 Uploading - Uploading generated training model\u001b[34mDocker entrypoint called with argument(s): train\u001b[0m\n",
      "\u001b[34mRunning default environment configuration script\u001b[0m\n",
      "\u001b[34m[04/26/2022 23:51:46 INFO 140612709816128 integration.py:636] worker started\u001b[0m\n",
      "\u001b[34m[04/26/2022 23:51:46 INFO 140612709816128] Reading default configuration from /opt/amazon/lib/python3.7/site-packages/algorithm/resources/default-input.json: {'mini_batch_size': '1000', 'epochs': '15', 'feature_dim': 'auto', 'use_bias': 'true', 'binary_classifier_model_selection_criteria': 'accuracy', 'f_beta': '1.0', 'target_recall': '0.8', 'target_precision': '0.8', 'num_models': 'auto', 'num_calibration_samples': '10000000', 'init_method': 'uniform', 'init_scale': '0.07', 'init_sigma': '0.01', 'init_bias': '0.0', 'optimizer': 'auto', 'loss': 'auto', 'margin': '1.0', 'quantile': '0.5', 'loss_insensitivity': '0.01', 'huber_delta': '1.0', 'num_classes': '1', 'accuracy_top_k': '3', 'wd': 'auto', 'l1': 'auto', 'momentum': 'auto', 'learning_rate': 'auto', 'beta_1': 'auto', 'beta_2': 'auto', 'bias_lr_mult': 'auto', 'bias_wd_mult': 'auto', 'use_lr_scheduler': 'true', 'lr_scheduler_step': 'auto', 'lr_scheduler_factor': 'auto', 'lr_scheduler_minimum_lr': 'auto', 'positive_example_weight_mult': '1.0', 'balance_multiclass_weights': 'false', 'normalize_data': 'true', 'normalize_label': 'auto', 'unbias_data': 'auto', 'unbias_label': 'auto', 'num_point_for_scaler': '10000', '_kvstore': 'auto', '_num_gpus': 'auto', '_num_kv_servers': 'auto', '_log_level': 'info', '_tuning_objective_metric': '', 'early_stopping_patience': '3', 'early_stopping_tolerance': '0.001', '_enable_profiler': 'false'}\u001b[0m\n",
      "\u001b[34m[04/26/2022 23:51:46 INFO 140612709816128] Merging with provided configuration from /opt/ml/input/config/hyperparameters.json: {'feature_dim': '13', 'mini_batch_size': '100', 'predictor_type': 'binary_classifier'}\u001b[0m\n",
      "\u001b[34m[04/26/2022 23:51:46 INFO 140612709816128] Final configuration: {'mini_batch_size': '100', 'epochs': '15', 'feature_dim': '13', 'use_bias': 'true', 'binary_classifier_model_selection_criteria': 'accuracy', 'f_beta': '1.0', 'target_recall': '0.8', 'target_precision': '0.8', 'num_models': 'auto', 'num_calibration_samples': '10000000', 'init_method': 'uniform', 'init_scale': '0.07', 'init_sigma': '0.01', 'init_bias': '0.0', 'optimizer': 'auto', 'loss': 'auto', 'margin': '1.0', 'quantile': '0.5', 'loss_insensitivity': '0.01', 'huber_delta': '1.0', 'num_classes': '1', 'accuracy_top_k': '3', 'wd': 'auto', 'l1': 'auto', 'momentum': 'auto', 'learning_rate': 'auto', 'beta_1': 'auto', 'beta_2': 'auto', 'bias_lr_mult': 'auto', 'bias_wd_mult': 'auto', 'use_lr_scheduler': 'true', 'lr_scheduler_step': 'auto', 'lr_scheduler_factor': 'auto', 'lr_scheduler_minimum_lr': 'auto', 'positive_example_weight_mult': '1.0', 'balance_multiclass_weights': 'false', 'normalize_data': 'true', 'normalize_label': 'auto', 'unbias_data': 'auto', 'unbias_label': 'auto', 'num_point_for_scaler': '10000', '_kvstore': 'auto', '_num_gpus': 'auto', '_num_kv_servers': 'auto', '_log_level': 'info', '_tuning_objective_metric': '', 'early_stopping_patience': '3', 'early_stopping_tolerance': '0.001', '_enable_profiler': 'false', 'predictor_type': 'binary_classifier'}\u001b[0m\n",
      "\u001b[34m[04/26/2022 23:51:46 WARNING 140612709816128] Loggers have already been setup.\u001b[0m\n",
      "\u001b[34mProcess 1 is a worker.\u001b[0m\n",
      "\u001b[34m[04/26/2022 23:51:46 INFO 140612709816128] Using default worker.\u001b[0m\n",
      "\u001b[34m[04/26/2022 23:51:47 INFO 140612709816128] Checkpoint loading and saving are disabled.\u001b[0m\n",
      "\u001b[34m[2022-04-26 23:51:47.059] [tensorio] [info] epoch_stats={\"data_pipeline\": \"/opt/ml/input/data/train\", \"epoch\": 0, \"duration\": 14, \"num_examples\": 1, \"num_bytes\": 9600}\u001b[0m\n",
      "\u001b[34m[04/26/2022 23:51:47 INFO 140612709816128] Create Store: local\u001b[0m\n",
      "\u001b[34m[2022-04-26 23:51:47.140] [tensorio] [info] epoch_stats={\"data_pipeline\": \"/opt/ml/input/data/train\", \"epoch\": 1, \"duration\": 80, \"num_examples\": 4, \"num_bytes\": 29088}\u001b[0m\n",
      "\u001b[34m[04/26/2022 23:51:47 INFO 140612709816128] Scaler algorithm parameters\n",
      " <algorithm.scaler.ScalerAlgorithmStable object at 0x7fe292ee08d0>\u001b[0m\n",
      "\u001b[34m[04/26/2022 23:51:47 INFO 140612709816128] Scaling model computed with parameters:\n",
      " {'stdev_label': None, 'stdev_weight': \u001b[0m\n",
      "\u001b[34m[ 9.075498    0.46517622  1.0324513  17.581467   51.477055    0.35377333\n",
      "  0.52531475 22.845404    0.4689942   1.1553346   0.6169729   1.0231271\n",
      "  0.6114737 ]\u001b[0m\n",
      "\u001b[34m<NDArray 13 @cpu(0)>, 'mean_label': None, 'mean_weight': \u001b[0m\n",
      "\u001b[34m[5.4303337e+01 6.8333340e-01 9.7333324e-01 1.3159334e+02 2.4686002e+02\n",
      " 1.4666666e-01 5.2666664e-01 1.4970999e+02 3.2666665e-01 1.0346668e+00\n",
      " 1.4033333e+00 7.2333330e-01 2.3099999e+00]\u001b[0m\n",
      "\u001b[34m<NDArray 13 @cpu(0)>}\u001b[0m\n",
      "\u001b[34m[04/26/2022 23:51:47 INFO 140612709816128] nvidia-smi: took 0.032 seconds to run.\u001b[0m\n",
      "\u001b[34m[04/26/2022 23:51:47 INFO 140612709816128] nvidia-smi identified 0 GPUs.\u001b[0m\n",
      "\u001b[34m[04/26/2022 23:51:47 INFO 140612709816128] Number of GPUs being used: 0\u001b[0m\n",
      "\u001b[34m#metrics {\"StartTime\": 1651017107.300777, \"EndTime\": 1651017107.3008165, \"Dimensions\": {\"Algorithm\": \"Linear Learner\", \"Host\": \"algo-1\", \"Operation\": \"training\", \"Meta\": \"init_train_data_iter\"}, \"Metrics\": {\"Total Records Seen\": {\"sum\": 403.0, \"count\": 1, \"min\": 403, \"max\": 403}, \"Total Batches Seen\": {\"sum\": 5.0, \"count\": 1, \"min\": 5, \"max\": 5}, \"Max Records Seen Between Resets\": {\"sum\": 303.0, \"count\": 1, \"min\": 303, \"max\": 303}, \"Max Batches Seen Between Resets\": {\"sum\": 4.0, \"count\": 1, \"min\": 4, \"max\": 4}, \"Reset Count\": {\"sum\": 2.0, \"count\": 1, \"min\": 2, \"max\": 2}, \"Number of Records Since Last Reset\": {\"sum\": 0.0, \"count\": 1, \"min\": 0, \"max\": 0}, \"Number of Batches Since Last Reset\": {\"sum\": 0.0, \"count\": 1, \"min\": 0, \"max\": 0}}}\u001b[0m\n",
      "\u001b[34m[2022-04-26 23:51:47.464] [tensorio] [info] epoch_stats={\"data_pipeline\": \"/opt/ml/input/data/train\", \"epoch\": 4, \"duration\": 163, \"num_examples\": 4, \"num_bytes\": 29088}\u001b[0m\n",
      "\u001b[34m#metrics {\"StartTime\": 1651017107.4649656, \"EndTime\": 1651017107.4650671, \"Dimensions\": {\"Algorithm\": \"Linear Learner\", \"Host\": \"algo-1\", \"Operation\": \"training\", \"epoch\": 0, \"model\": 0}, \"Metrics\": {\"train_binary_classification_cross_entropy_objective\": {\"sum\": 0.6820338185628255, \"count\": 1, \"min\": 0.6820338185628255, \"max\": 0.6820338185628255}}}\u001b[0m\n",
      "\u001b[34m#metrics {\"StartTime\": 1651017107.4651804, \"EndTime\": 1651017107.4651973, \"Dimensions\": {\"Algorithm\": \"Linear Learner\", \"Host\": \"algo-1\", \"Operation\": \"training\", \"epoch\": 0, \"model\": 1}, \"Metrics\": {\"train_binary_classification_cross_entropy_objective\": {\"sum\": 0.7087820434570312, \"count\": 1, \"min\": 0.7087820434570312, \"max\": 0.7087820434570312}}}\u001b[0m\n",
      "\u001b[34m#metrics {\"StartTime\": 1651017107.465248, \"EndTime\": 1651017107.4652631, \"Dimensions\": {\"Algorithm\": \"Linear Learner\", \"Host\": \"algo-1\", \"Operation\": \"training\", \"epoch\": 0, \"model\": 2}, \"Metrics\": {\"train_binary_classification_cross_entropy_objective\": {\"sum\": 0.723108418782552, \"count\": 1, \"min\": 0.723108418782552, \"max\": 0.723108418782552}}}\u001b[0m\n",
      "\u001b[34m#metrics {\"StartTime\": 1651017107.4653091, \"EndTime\": 1651017107.465324, \"Dimensions\": {\"Algorithm\": \"Linear Learner\", \"Host\": \"algo-1\", \"Operation\": \"training\", \"epoch\": 0, \"model\": 3}, \"Metrics\": {\"train_binary_classification_cross_entropy_objective\": {\"sum\": 0.729712905883789, \"count\": 1, \"min\": 0.729712905883789, \"max\": 0.729712905883789}}}\u001b[0m\n",
      "\u001b[34m#metrics {\"StartTime\": 1651017107.4653664, \"EndTime\": 1651017107.4653819, \"Dimensions\": {\"Algorithm\": \"Linear Learner\", \"Host\": \"algo-1\", \"Operation\": \"training\", \"epoch\": 0, \"model\": 4}, \"Metrics\": {\"train_binary_classification_cross_entropy_objective\": {\"sum\": 0.7906353505452474, \"count\": 1, \"min\": 0.7906353505452474, \"max\": 0.7906353505452474}}}\u001b[0m\n",
      "\u001b[34m#metrics {\"StartTime\": 1651017107.4654167, \"EndTime\": 1651017107.4654262, \"Dimensions\": {\"Algorithm\": \"Linear Learner\", \"Host\": \"algo-1\", \"Operation\": \"training\", \"epoch\": 0, \"model\": 5}, \"Metrics\": {\"train_binary_classification_cross_entropy_objective\": {\"sum\": 0.821595687866211, \"count\": 1, \"min\": 0.821595687866211, \"max\": 0.821595687866211}}}\u001b[0m\n",
      "\u001b[34m#metrics {\"StartTime\": 1651017107.46545, \"EndTime\": 1651017107.4654608, \"Dimensions\": {\"Algorithm\": \"Linear Learner\", \"Host\": \"algo-1\", \"Operation\": \"training\", \"epoch\": 0, \"model\": 6}, \"Metrics\": {\"train_binary_classification_cross_entropy_objective\": {\"sum\": 0.8550946426391601, \"count\": 1, \"min\": 0.8550946426391601, \"max\": 0.8550946426391601}}}\u001b[0m\n",
      "\u001b[34m#metrics {\"StartTime\": 1651017107.4655077, \"EndTime\": 1651017107.4655216, \"Dimensions\": {\"Algorithm\": \"Linear Learner\", \"Host\": \"algo-1\", \"Operation\": \"training\", \"epoch\": 0, \"model\": 7}, \"Metrics\": {\"train_binary_classification_cross_entropy_objective\": {\"sum\": 0.8366127649943034, \"count\": 1, \"min\": 0.8366127649943034, \"max\": 0.8366127649943034}}}\u001b[0m\n",
      "\u001b[34m#metrics {\"StartTime\": 1651017107.4655495, \"EndTime\": 1651017107.4655576, \"Dimensions\": {\"Algorithm\": \"Linear Learner\", \"Host\": \"algo-1\", \"Operation\": \"training\", \"epoch\": 0, \"model\": 8}, \"Metrics\": {\"train_binary_classification_cross_entropy_objective\": {\"sum\": 0.7519080098470052, \"count\": 1, \"min\": 0.7519080098470052, \"max\": 0.7519080098470052}}}\u001b[0m\n",
      "\u001b[34m#metrics {\"StartTime\": 1651017107.4656107, \"EndTime\": 1651017107.4656281, \"Dimensions\": {\"Algorithm\": \"Linear Learner\", \"Host\": \"algo-1\", \"Operation\": \"training\", \"epoch\": 0, \"model\": 9}, \"Metrics\": {\"train_binary_classification_cross_entropy_objective\": {\"sum\": 0.7238820139567057, \"count\": 1, \"min\": 0.7238820139567057, \"max\": 0.7238820139567057}}}\u001b[0m\n",
      "\u001b[34m#metrics {\"StartTime\": 1651017107.465688, \"EndTime\": 1651017107.4657042, \"Dimensions\": {\"Algorithm\": \"Linear Learner\", \"Host\": \"algo-1\", \"Operation\": \"training\", \"epoch\": 0, \"model\": 10}, \"Metrics\": {\"train_binary_classification_cross_entropy_objective\": {\"sum\": 0.7217354583740234, \"count\": 1, \"min\": 0.7217354583740234, \"max\": 0.7217354583740234}}}\u001b[0m\n",
      "\u001b[34m#metrics {\"StartTime\": 1651017107.4657514, \"EndTime\": 1651017107.4657614, \"Dimensions\": {\"Algorithm\": \"Linear Learner\", \"Host\": \"algo-1\", \"Operation\": \"training\", \"epoch\": 0, \"model\": 11}, \"Metrics\": {\"train_binary_classification_cross_entropy_objective\": {\"sum\": 0.7477328999837239, \"count\": 1, \"min\": 0.7477328999837239, \"max\": 0.7477328999837239}}}\u001b[0m\n",
      "\u001b[34m#metrics {\"StartTime\": 1651017107.4658008, \"EndTime\": 1651017107.4658153, \"Dimensions\": {\"Algorithm\": \"Linear Learner\", \"Host\": \"algo-1\", \"Operation\": \"training\", \"epoch\": 0, \"model\": 12}, \"Metrics\": {\"train_binary_classification_cross_entropy_objective\": {\"sum\": 0.8210710906982421, \"count\": 1, \"min\": 0.8210710906982421, \"max\": 0.8210710906982421}}}\u001b[0m\n",
      "\u001b[34m#metrics {\"StartTime\": 1651017107.4658458, \"EndTime\": 1651017107.4658604, \"Dimensions\": {\"Algorithm\": \"Linear Learner\", \"Host\": \"algo-1\", \"Operation\": \"training\", \"epoch\": 0, \"model\": 13}, \"Metrics\": {\"train_binary_classification_cross_entropy_objective\": {\"sum\": 0.7958912658691406, \"count\": 1, \"min\": 0.7958912658691406, \"max\": 0.7958912658691406}}}\u001b[0m\n",
      "\u001b[34m#metrics {\"StartTime\": 1651017107.4659064, \"EndTime\": 1651017107.4659216, \"Dimensions\": {\"Algorithm\": \"Linear Learner\", \"Host\": \"algo-1\", \"Operation\": \"training\", \"epoch\": 0, \"model\": 14}, \"Metrics\": {\"train_binary_classification_cross_entropy_objective\": {\"sum\": 0.8448188018798828, \"count\": 1, \"min\": 0.8448188018798828, \"max\": 0.8448188018798828}}}\u001b[0m\n",
      "\u001b[34m#metrics {\"StartTime\": 1651017107.4659662, \"EndTime\": 1651017107.4659822, \"Dimensions\": {\"Algorithm\": \"Linear Learner\", \"Host\": \"algo-1\", \"Operation\": \"training\", \"epoch\": 0, \"model\": 15}, \"Metrics\": {\"train_binary_classification_cross_entropy_objective\": {\"sum\": 0.8510869598388672, \"count\": 1, \"min\": 0.8510869598388672, \"max\": 0.8510869598388672}}}\u001b[0m\n",
      "\u001b[34m#metrics {\"StartTime\": 1651017107.4660316, \"EndTime\": 1651017107.4660482, \"Dimensions\": {\"Algorithm\": \"Linear Learner\", \"Host\": \"algo-1\", \"Operation\": \"training\", \"epoch\": 0, \"model\": 16}, \"Metrics\": {\"train_binary_classification_cross_entropy_objective\": {\"sum\": 0.7025702158610027, \"count\": 1, \"min\": 0.7025702158610027, \"max\": 0.7025702158610027}}}\u001b[0m\n",
      "\u001b[34m#metrics {\"StartTime\": 1651017107.466107, \"EndTime\": 1651017107.4661212, \"Dimensions\": {\"Algorithm\": \"Linear Learner\", \"Host\": \"algo-1\", \"Operation\": \"training\", \"epoch\": 0, \"model\": 17}, \"Metrics\": {\"train_binary_classification_cross_entropy_objective\": {\"sum\": 0.7260891723632813, \"count\": 1, \"min\": 0.7260891723632813, \"max\": 0.7260891723632813}}}\u001b[0m\n",
      "\u001b[34m#metrics {\"StartTime\": 1651017107.4661672, \"EndTime\": 1651017107.4661827, \"Dimensions\": {\"Algorithm\": \"Linear Learner\", \"Host\": \"algo-1\", \"Operation\": \"training\", \"epoch\": 0, \"model\": 18}, \"Metrics\": {\"train_binary_classification_cross_entropy_objective\": {\"sum\": 0.6606353123982748, \"count\": 1, \"min\": 0.6606353123982748, \"max\": 0.6606353123982748}}}\u001b[0m\n",
      "\u001b[34m#metrics {\"StartTime\": 1651017107.4662302, \"EndTime\": 1651017107.4662457, \"Dimensions\": {\"Algorithm\": \"Linear Learner\", \"Host\": \"algo-1\", \"Operation\": \"training\", \"epoch\": 0, \"model\": 19}, \"Metrics\": {\"train_binary_classification_cross_entropy_objective\": {\"sum\": 0.6775175476074219, \"count\": 1, \"min\": 0.6775175476074219, \"max\": 0.6775175476074219}}}\u001b[0m\n",
      "\u001b[34m#metrics {\"StartTime\": 1651017107.4662905, \"EndTime\": 1651017107.466304, \"Dimensions\": {\"Algorithm\": \"Linear Learner\", \"Host\": \"algo-1\", \"Operation\": \"training\", \"epoch\": 0, \"model\": 20}, \"Metrics\": {\"train_binary_classification_cross_entropy_objective\": {\"sum\": 0.8269999313354492, \"count\": 1, \"min\": 0.8269999313354492, \"max\": 0.8269999313354492}}}\u001b[0m\n",
      "\u001b[34m#metrics {\"StartTime\": 1651017107.4663427, \"EndTime\": 1651017107.4663515, \"Dimensions\": {\"Algorithm\": \"Linear Learner\", \"Host\": \"algo-1\", \"Operation\": \"training\", \"epoch\": 0, \"model\": 21}, \"Metrics\": {\"train_binary_classification_cross_entropy_objective\": {\"sum\": 0.8333643086751302, \"count\": 1, \"min\": 0.8333643086751302, \"max\": 0.8333643086751302}}}\u001b[0m\n",
      "\u001b[34m#metrics {\"StartTime\": 1651017107.4663754, \"EndTime\": 1651017107.4663825, \"Dimensions\": {\"Algorithm\": \"Linear Learner\", \"Host\": \"algo-1\", \"Operation\": \"training\", \"epoch\": 0, \"model\": 22}, \"Metrics\": {\"train_binary_classification_cross_entropy_objective\": {\"sum\": 0.8382599639892578, \"count\": 1, \"min\": 0.8382599639892578, \"max\": 0.8382599639892578}}}\u001b[0m\n",
      "\u001b[34m#metrics {\"StartTime\": 1651017107.4664047, \"EndTime\": 1651017107.4664116, \"Dimensions\": {\"Algorithm\": \"Linear Learner\", \"Host\": \"algo-1\", \"Operation\": \"training\", \"epoch\": 0, \"model\": 23}, \"Metrics\": {\"train_binary_classification_cross_entropy_objective\": {\"sum\": 0.88457825978597, \"count\": 1, \"min\": 0.88457825978597, \"max\": 0.88457825978597}}}\u001b[0m\n",
      "\u001b[34m#metrics {\"StartTime\": 1651017107.466463, \"EndTime\": 1651017107.46648, \"Dimensions\": {\"Algorithm\": \"Linear Learner\", \"Host\": \"algo-1\", \"Operation\": \"training\", \"epoch\": 0, \"model\": 24}, \"Metrics\": {\"train_binary_classification_cross_entropy_objective\": {\"sum\": 0.7009534454345703, \"count\": 1, \"min\": 0.7009534454345703, \"max\": 0.7009534454345703}}}\u001b[0m\n",
      "\u001b[34m#metrics {\"StartTime\": 1651017107.4665303, \"EndTime\": 1651017107.4665465, \"Dimensions\": {\"Algorithm\": \"Linear Learner\", \"Host\": \"algo-1\", \"Operation\": \"training\", \"epoch\": 0, \"model\": 25}, \"Metrics\": {\"train_binary_classification_cross_entropy_objective\": {\"sum\": 0.6872856140136718, \"count\": 1, \"min\": 0.6872856140136718, \"max\": 0.6872856140136718}}}\u001b[0m\n",
      "\u001b[34m#metrics {\"StartTime\": 1651017107.4665973, \"EndTime\": 1651017107.4666135, \"Dimensions\": {\"Algorithm\": \"Linear Learner\", \"Host\": \"algo-1\", \"Operation\": \"training\", \"epoch\": 0, \"model\": 26}, \"Metrics\": {\"train_binary_classification_cross_entropy_objective\": {\"sum\": 0.6807373555501303, \"count\": 1, \"min\": 0.6807373555501303, \"max\": 0.6807373555501303}}}\u001b[0m\n",
      "\u001b[34m#metrics {\"StartTime\": 1651017107.466664, \"EndTime\": 1651017107.4666805, \"Dimensions\": {\"Algorithm\": \"Linear Learner\", \"Host\": \"algo-1\", \"Operation\": \"training\", \"epoch\": 0, \"model\": 27}, \"Metrics\": {\"train_binary_classification_cross_entropy_objective\": {\"sum\": 0.7148330179850261, \"count\": 1, \"min\": 0.7148330179850261, \"max\": 0.7148330179850261}}}\u001b[0m\n",
      "\u001b[34m#metrics {\"StartTime\": 1651017107.4667363, \"EndTime\": 1651017107.4667535, \"Dimensions\": {\"Algorithm\": \"Linear Learner\", \"Host\": \"algo-1\", \"Operation\": \"training\", \"epoch\": 0, \"model\": 28}, \"Metrics\": {\"train_binary_classification_cross_entropy_objective\": {\"sum\": 1.0029118982950846, \"count\": 1, \"min\": 1.0029118982950846, \"max\": 1.0029118982950846}}}\u001b[0m\n",
      "\u001b[34m#metrics {\"StartTime\": 1651017107.466804, \"EndTime\": 1651017107.4668202, \"Dimensions\": {\"Algorithm\": \"Linear Learner\", \"Host\": \"algo-1\", \"Operation\": \"training\", \"epoch\": 0, \"model\": 29}, \"Metrics\": {\"train_binary_classification_cross_entropy_objective\": {\"sum\": 1.052272720336914, \"count\": 1, \"min\": 1.052272720336914, \"max\": 1.052272720336914}}}\u001b[0m\n",
      "\u001b[34m#metrics {\"StartTime\": 1651017107.4668732, \"EndTime\": 1651017107.466915, \"Dimensions\": {\"Algorithm\": \"Linear Learner\", \"Host\": \"algo-1\", \"Operation\": \"training\", \"epoch\": 0, \"model\": 30}, \"Metrics\": {\"train_binary_classification_cross_entropy_objective\": {\"sum\": 1.0667474110921225, \"count\": 1, \"min\": 1.0667474110921225, \"max\": 1.0667474110921225}}}\u001b[0m\n",
      "\u001b[34m#metrics {\"StartTime\": 1651017107.4669623, \"EndTime\": 1651017107.4669783, \"Dimensions\": {\"Algorithm\": \"Linear Learner\", \"Host\": \"algo-1\", \"Operation\": \"training\", \"epoch\": 0, \"model\": 31}, \"Metrics\": {\"train_binary_classification_cross_entropy_objective\": {\"sum\": 1.050813725789388, \"count\": 1, \"min\": 1.050813725789388, \"max\": 1.050813725789388}}}\u001b[0m\n",
      "\u001b[34m[04/26/2022 23:51:47 INFO 140612709816128] #quality_metric: host=algo-1, epoch=0, train binary_classification_cross_entropy_objective <loss>=0.6820338185628255\u001b[0m\n",
      "\u001b[34m[04/26/2022 23:51:47 INFO 140612709816128] #early_stopping_criteria_metric: host=algo-1, epoch=0, criteria=binary_classification_cross_entropy_objective, value=0.6606353123982748\u001b[0m\n",
      "\u001b[34m[04/26/2022 23:51:47 INFO 140612709816128] Epoch 0: Loss improved. Updating best model\u001b[0m\n",
      "\u001b[34m[04/26/2022 23:51:47 INFO 140612709816128] Saving model for epoch: 0\u001b[0m\n",
      "\u001b[34m[04/26/2022 23:51:47 INFO 140612709816128] Saved checkpoint to \"/tmp/tmpmg_qiyx5/mx-mod-0000.params\"\u001b[0m\n",
      "\u001b[34m[04/26/2022 23:51:47 INFO 140612709816128] #progress_metric: host=algo-1, completed 6.666666666666667 % of epochs\u001b[0m\n",
      "\u001b[34m#metrics {\"StartTime\": 1651017107.3011317, \"EndTime\": 1651017107.4845722, \"Dimensions\": {\"Algorithm\": \"Linear Learner\", \"Host\": \"algo-1\", \"Operation\": \"training\", \"epoch\": 0, \"Meta\": \"training_data_iter\"}, \"Metrics\": {\"Total Records Seen\": {\"sum\": 706.0, \"count\": 1, \"min\": 706, \"max\": 706}, \"Total Batches Seen\": {\"sum\": 9.0, \"count\": 1, \"min\": 9, \"max\": 9}, \"Max Records Seen Between Resets\": {\"sum\": 303.0, \"count\": 1, \"min\": 303, \"max\": 303}, \"Max Batches Seen Between Resets\": {\"sum\": 4.0, \"count\": 1, \"min\": 4, \"max\": 4}, \"Reset Count\": {\"sum\": 3.0, \"count\": 1, \"min\": 3, \"max\": 3}, \"Number of Records Since Last Reset\": {\"sum\": 303.0, \"count\": 1, \"min\": 303, \"max\": 303}, \"Number of Batches Since Last Reset\": {\"sum\": 4.0, \"count\": 1, \"min\": 4, \"max\": 4}}}\u001b[0m\n",
      "\u001b[34m[04/26/2022 23:51:47 INFO 140612709816128] #throughput_metric: host=algo-1, train throughput=1650.395838149088 records/second\u001b[0m\n",
      "\u001b[34m[2022-04-26 23:51:47.614] [tensorio] [info] epoch_stats={\"data_pipeline\": \"/opt/ml/input/data/train\", \"epoch\": 6, \"duration\": 129, \"num_examples\": 4, \"num_bytes\": 29088}\u001b[0m\n",
      "\u001b[34m#metrics {\"StartTime\": 1651017107.614768, \"EndTime\": 1651017107.6148648, \"Dimensions\": {\"Algorithm\": \"Linear Learner\", \"Host\": \"algo-1\", \"Operation\": \"training\", \"epoch\": 1, \"model\": 0}, \"Metrics\": {\"train_binary_classification_cross_entropy_objective\": {\"sum\": 0.6454745610555013, \"count\": 1, \"min\": 0.6454745610555013, \"max\": 0.6454745610555013}}}\u001b[0m\n",
      "\u001b[34m#metrics {\"StartTime\": 1651017107.6149962, \"EndTime\": 1651017107.6150215, \"Dimensions\": {\"Algorithm\": \"Linear Learner\", \"Host\": \"algo-1\", \"Operation\": \"training\", \"epoch\": 1, \"model\": 1}, \"Metrics\": {\"train_binary_classification_cross_entropy_objective\": {\"sum\": 0.6710426076253255, \"count\": 1, \"min\": 0.6710426076253255, \"max\": 0.6710426076253255}}}\u001b[0m\n",
      "\u001b[34m#metrics {\"StartTime\": 1651017107.6150796, \"EndTime\": 1651017107.615097, \"Dimensions\": {\"Algorithm\": \"Linear Learner\", \"Host\": \"algo-1\", \"Operation\": \"training\", \"epoch\": 1, \"model\": 2}, \"Metrics\": {\"train_binary_classification_cross_entropy_objective\": {\"sum\": 0.6837513732910157, \"count\": 1, \"min\": 0.6837513732910157, \"max\": 0.6837513732910157}}}\u001b[0m\n",
      "\u001b[34m#metrics {\"StartTime\": 1651017107.6151497, \"EndTime\": 1651017107.615166, \"Dimensions\": {\"Algorithm\": \"Linear Learner\", \"Host\": \"algo-1\", \"Operation\": \"training\", \"epoch\": 1, \"model\": 3}, \"Metrics\": {\"train_binary_classification_cross_entropy_objective\": {\"sum\": 0.6909143829345703, \"count\": 1, \"min\": 0.6909143829345703, \"max\": 0.6909143829345703}}}\u001b[0m\n",
      "\u001b[34m#metrics {\"StartTime\": 1651017107.6152098, \"EndTime\": 1651017107.6152234, \"Dimensions\": {\"Algorithm\": \"Linear Learner\", \"Host\": \"algo-1\", \"Operation\": \"training\", \"epoch\": 1, \"model\": 4}, \"Metrics\": {\"train_binary_classification_cross_entropy_objective\": {\"sum\": 0.41107384363810223, \"count\": 1, \"min\": 0.41107384363810223, \"max\": 0.41107384363810223}}}\u001b[0m\n",
      "\u001b[34m#metrics {\"StartTime\": 1651017107.6152656, \"EndTime\": 1651017107.6152804, \"Dimensions\": {\"Algorithm\": \"Linear Learner\", \"Host\": \"algo-1\", \"Operation\": \"training\", \"epoch\": 1, \"model\": 5}, \"Metrics\": {\"train_binary_classification_cross_entropy_objective\": {\"sum\": 0.4110311762491862, \"count\": 1, \"min\": 0.4110311762491862, \"max\": 0.4110311762491862}}}\u001b[0m\n",
      "\u001b[34m#metrics {\"StartTime\": 1651017107.6153314, \"EndTime\": 1651017107.6153479, \"Dimensions\": {\"Algorithm\": \"Linear Learner\", \"Host\": \"algo-1\", \"Operation\": \"training\", \"epoch\": 1, \"model\": 6}, \"Metrics\": {\"train_binary_classification_cross_entropy_objective\": {\"sum\": 0.4223799673716227, \"count\": 1, \"min\": 0.4223799673716227, \"max\": 0.4223799673716227}}}\u001b[0m\n",
      "\u001b[34m#metrics {\"StartTime\": 1651017107.6153982, \"EndTime\": 1651017107.615415, \"Dimensions\": {\"Algorithm\": \"Linear Learner\", \"Host\": \"algo-1\", \"Operation\": \"training\", \"epoch\": 1, \"model\": 7}, \"Metrics\": {\"train_binary_classification_cross_entropy_objective\": {\"sum\": 0.4142917760213216, \"count\": 1, \"min\": 0.4142917760213216, \"max\": 0.4142917760213216}}}\u001b[0m\n",
      "\u001b[34m#metrics {\"StartTime\": 1651017107.615476, \"EndTime\": 1651017107.615492, \"Dimensions\": {\"Algorithm\": \"Linear Learner\", \"Host\": \"algo-1\", \"Operation\": \"training\", \"epoch\": 1, \"model\": 8}, \"Metrics\": {\"train_binary_classification_cross_entropy_objective\": {\"sum\": 0.7115948232014974, \"count\": 1, \"min\": 0.7115948232014974, \"max\": 0.7115948232014974}}}\u001b[0m\n",
      "\u001b[34m#metrics {\"StartTime\": 1651017107.6155415, \"EndTime\": 1651017107.6155581, \"Dimensions\": {\"Algorithm\": \"Linear Learner\", \"Host\": \"algo-1\", \"Operation\": \"training\", \"epoch\": 1, \"model\": 9}, \"Metrics\": {\"train_binary_classification_cross_entropy_objective\": {\"sum\": 0.685059076944987, \"count\": 1, \"min\": 0.685059076944987, \"max\": 0.685059076944987}}}\u001b[0m\n",
      "\u001b[34m#metrics {\"StartTime\": 1651017107.6156065, \"EndTime\": 1651017107.6156209, \"Dimensions\": {\"Algorithm\": \"Linear Learner\", \"Host\": \"algo-1\", \"Operation\": \"training\", \"epoch\": 1, \"model\": 10}, \"Metrics\": {\"train_binary_classification_cross_entropy_objective\": {\"sum\": 0.6834462229410807, \"count\": 1, \"min\": 0.6834462229410807, \"max\": 0.6834462229410807}}}\u001b[0m\n",
      "\u001b[34m#metrics {\"StartTime\": 1651017107.6156685, \"EndTime\": 1651017107.6156845, \"Dimensions\": {\"Algorithm\": \"Linear Learner\", \"Host\": \"algo-1\", \"Operation\": \"training\", \"epoch\": 1, \"model\": 11}, \"Metrics\": {\"train_binary_classification_cross_entropy_objective\": {\"sum\": 0.7076218922932943, \"count\": 1, \"min\": 0.7076218922932943, \"max\": 0.7076218922932943}}}\u001b[0m\n",
      "\u001b[34m#metrics {\"StartTime\": 1651017107.6157348, \"EndTime\": 1651017107.615751, \"Dimensions\": {\"Algorithm\": \"Linear Learner\", \"Host\": \"algo-1\", \"Operation\": \"training\", \"epoch\": 1, \"model\": 12}, \"Metrics\": {\"train_binary_classification_cross_entropy_objective\": {\"sum\": 0.42089057286580406, \"count\": 1, \"min\": 0.42089057286580406, \"max\": 0.42089057286580406}}}\u001b[0m\n",
      "\u001b[34m#metrics {\"StartTime\": 1651017107.6158032, \"EndTime\": 1651017107.6158192, \"Dimensions\": {\"Algorithm\": \"Linear Learner\", \"Host\": \"algo-1\", \"Operation\": \"training\", \"epoch\": 1, \"model\": 13}, \"Metrics\": {\"train_binary_classification_cross_entropy_objective\": {\"sum\": 0.4125681527455648, \"count\": 1, \"min\": 0.4125681527455648, \"max\": 0.4125681527455648}}}\u001b[0m\n",
      "\u001b[34m#metrics {\"StartTime\": 1651017107.6158695, \"EndTime\": 1651017107.6158855, \"Dimensions\": {\"Algorithm\": \"Linear Learner\", \"Host\": \"algo-1\", \"Operation\": \"training\", \"epoch\": 1, \"model\": 14}, \"Metrics\": {\"train_binary_classification_cross_entropy_objective\": {\"sum\": 0.42305606842041016, \"count\": 1, \"min\": 0.42305606842041016, \"max\": 0.42305606842041016}}}\u001b[0m\n",
      "\u001b[34m#metrics {\"StartTime\": 1651017107.6159358, \"EndTime\": 1651017107.6159527, \"Dimensions\": {\"Algorithm\": \"Linear Learner\", \"Host\": \"algo-1\", \"Operation\": \"training\", \"epoch\": 1, \"model\": 15}, \"Metrics\": {\"train_binary_classification_cross_entropy_objective\": {\"sum\": 0.41701871236165367, \"count\": 1, \"min\": 0.41701871236165367, \"max\": 0.41701871236165367}}}\u001b[0m\n",
      "\u001b[34m#metrics {\"StartTime\": 1651017107.6160014, \"EndTime\": 1651017107.6160166, \"Dimensions\": {\"Algorithm\": \"Linear Learner\", \"Host\": \"algo-1\", \"Operation\": \"training\", \"epoch\": 1, \"model\": 16}, \"Metrics\": {\"train_binary_classification_cross_entropy_objective\": {\"sum\": 0.6663058471679687, \"count\": 1, \"min\": 0.6663058471679687, \"max\": 0.6663058471679687}}}\u001b[0m\n",
      "\u001b[34m#metrics {\"StartTime\": 1651017107.6160657, \"EndTime\": 1651017107.6160812, \"Dimensions\": {\"Algorithm\": \"Linear Learner\", \"Host\": \"algo-1\", \"Operation\": \"training\", \"epoch\": 1, \"model\": 17}, \"Metrics\": {\"train_binary_classification_cross_entropy_objective\": {\"sum\": 0.6871729787190756, \"count\": 1, \"min\": 0.6871729787190756, \"max\": 0.6871729787190756}}}\u001b[0m\n",
      "\u001b[34m#metrics {\"StartTime\": 1651017107.6161294, \"EndTime\": 1651017107.6161451, \"Dimensions\": {\"Algorithm\": \"Linear Learner\", \"Host\": \"algo-1\", \"Operation\": \"training\", \"epoch\": 1, \"model\": 18}, \"Metrics\": {\"train_binary_classification_cross_entropy_objective\": {\"sum\": 0.6276085789998372, \"count\": 1, \"min\": 0.6276085789998372, \"max\": 0.6276085789998372}}}\u001b[0m\n",
      "\u001b[34m#metrics {\"StartTime\": 1651017107.616196, \"EndTime\": 1651017107.6162124, \"Dimensions\": {\"Algorithm\": \"Linear Learner\", \"Host\": \"algo-1\", \"Operation\": \"training\", \"epoch\": 1, \"model\": 19}, \"Metrics\": {\"train_binary_classification_cross_entropy_objective\": {\"sum\": 0.6440021514892578, \"count\": 1, \"min\": 0.6440021514892578, \"max\": 0.6440021514892578}}}\u001b[0m\n",
      "\u001b[34m#metrics {\"StartTime\": 1651017107.6162639, \"EndTime\": 1651017107.6162796, \"Dimensions\": {\"Algorithm\": \"Linear Learner\", \"Host\": \"algo-1\", \"Operation\": \"training\", \"epoch\": 1, \"model\": 20}, \"Metrics\": {\"train_binary_classification_cross_entropy_objective\": {\"sum\": 0.5024372577667237, \"count\": 1, \"min\": 0.5024372577667237, \"max\": 0.5024372577667237}}}\u001b[0m\n",
      "\u001b[34m#metrics {\"StartTime\": 1651017107.6171684, \"EndTime\": 1651017107.617239, \"Dimensions\": {\"Algorithm\": \"Linear Learner\", \"Host\": \"algo-1\", \"Operation\": \"training\", \"epoch\": 1, \"model\": 21}, \"Metrics\": {\"train_binary_classification_cross_entropy_objective\": {\"sum\": 0.5049194018046061, \"count\": 1, \"min\": 0.5049194018046061, \"max\": 0.5049194018046061}}}\u001b[0m\n",
      "\u001b[34m#metrics {\"StartTime\": 1651017107.6173065, \"EndTime\": 1651017107.6173263, \"Dimensions\": {\"Algorithm\": \"Linear Learner\", \"Host\": \"algo-1\", \"Operation\": \"training\", \"epoch\": 1, \"model\": 22}, \"Metrics\": {\"train_binary_classification_cross_entropy_objective\": {\"sum\": 0.4966910139719645, \"count\": 1, \"min\": 0.4966910139719645, \"max\": 0.4966910139719645}}}\u001b[0m\n",
      "\u001b[34m#metrics {\"StartTime\": 1651017107.6173944, \"EndTime\": 1651017107.617414, \"Dimensions\": {\"Algorithm\": \"Linear Learner\", \"Host\": \"algo-1\", \"Operation\": \"training\", \"epoch\": 1, \"model\": 23}, \"Metrics\": {\"train_binary_classification_cross_entropy_objective\": {\"sum\": 0.48035725275675456, \"count\": 1, \"min\": 0.48035725275675456, \"max\": 0.48035725275675456}}}\u001b[0m\n",
      "\u001b[34m#metrics {\"StartTime\": 1651017107.6174676, \"EndTime\": 1651017107.6174843, \"Dimensions\": {\"Algorithm\": \"Linear Learner\", \"Host\": \"algo-1\", \"Operation\": \"training\", \"epoch\": 1, \"model\": 24}, \"Metrics\": {\"train_binary_classification_cross_entropy_objective\": {\"sum\": 0.6939025370279948, \"count\": 1, \"min\": 0.6939025370279948, \"max\": 0.6939025370279948}}}\u001b[0m\n",
      "\u001b[34m#metrics {\"StartTime\": 1651017107.6175377, \"EndTime\": 1651017107.6175551, \"Dimensions\": {\"Algorithm\": \"Linear Learner\", \"Host\": \"algo-1\", \"Operation\": \"training\", \"epoch\": 1, \"model\": 25}, \"Metrics\": {\"train_binary_classification_cross_entropy_objective\": {\"sum\": 0.686641362508138, \"count\": 1, \"min\": 0.686641362508138, \"max\": 0.686641362508138}}}\u001b[0m\n",
      "\u001b[34m#metrics {\"StartTime\": 1651017107.6176062, \"EndTime\": 1651017107.617621, \"Dimensions\": {\"Algorithm\": \"Linear Learner\", \"Host\": \"algo-1\", \"Operation\": \"training\", \"epoch\": 1, \"model\": 26}, \"Metrics\": {\"train_binary_classification_cross_entropy_objective\": {\"sum\": 0.6766444142659506, \"count\": 1, \"min\": 0.6766444142659506, \"max\": 0.6766444142659506}}}\u001b[0m\n",
      "\u001b[34m#metrics {\"StartTime\": 1651017107.6176612, \"EndTime\": 1651017107.6176744, \"Dimensions\": {\"Algorithm\": \"Linear Learner\", \"Host\": \"algo-1\", \"Operation\": \"training\", \"epoch\": 1, \"model\": 27}, \"Metrics\": {\"train_binary_classification_cross_entropy_objective\": {\"sum\": 0.6997818501790365, \"count\": 1, \"min\": 0.6997818501790365, \"max\": 0.6997818501790365}}}\u001b[0m\n",
      "\u001b[34m#metrics {\"StartTime\": 1651017107.6177201, \"EndTime\": 1651017107.6177342, \"Dimensions\": {\"Algorithm\": \"Linear Learner\", \"Host\": \"algo-1\", \"Operation\": \"training\", \"epoch\": 1, \"model\": 28}, \"Metrics\": {\"train_binary_classification_cross_entropy_objective\": {\"sum\": 0.7810559399922689, \"count\": 1, \"min\": 0.7810559399922689, \"max\": 0.7810559399922689}}}\u001b[0m\n",
      "\u001b[34m#metrics {\"StartTime\": 1651017107.6177733, \"EndTime\": 1651017107.6177864, \"Dimensions\": {\"Algorithm\": \"Linear Learner\", \"Host\": \"algo-1\", \"Operation\": \"training\", \"epoch\": 1, \"model\": 29}, \"Metrics\": {\"train_binary_classification_cross_entropy_objective\": {\"sum\": 0.7033942604064941, \"count\": 1, \"min\": 0.7033942604064941, \"max\": 0.7033942604064941}}}\u001b[0m\n",
      "\u001b[34m#metrics {\"StartTime\": 1651017107.617824, \"EndTime\": 1651017107.6178365, \"Dimensions\": {\"Algorithm\": \"Linear Learner\", \"Host\": \"algo-1\", \"Operation\": \"training\", \"epoch\": 1, \"model\": 30}, \"Metrics\": {\"train_binary_classification_cross_entropy_objective\": {\"sum\": 0.699126459757487, \"count\": 1, \"min\": 0.699126459757487, \"max\": 0.699126459757487}}}\u001b[0m\n",
      "\u001b[34m#metrics {\"StartTime\": 1651017107.6178753, \"EndTime\": 1651017107.6178887, \"Dimensions\": {\"Algorithm\": \"Linear Learner\", \"Host\": \"algo-1\", \"Operation\": \"training\", \"epoch\": 1, \"model\": 31}, \"Metrics\": {\"train_binary_classification_cross_entropy_objective\": {\"sum\": 0.7088962173461915, \"count\": 1, \"min\": 0.7088962173461915, \"max\": 0.7088962173461915}}}\u001b[0m\n",
      "\u001b[34m[04/26/2022 23:51:47 INFO 140612709816128] #quality_metric: host=algo-1, epoch=1, train binary_classification_cross_entropy_objective <loss>=0.6454745610555013\u001b[0m\n",
      "\u001b[34m[04/26/2022 23:51:47 INFO 140612709816128] #early_stopping_criteria_metric: host=algo-1, epoch=1, criteria=binary_classification_cross_entropy_objective, value=0.4110311762491862\u001b[0m\n",
      "\u001b[34m[04/26/2022 23:51:47 INFO 140612709816128] Epoch 1: Loss improved. Updating best model\u001b[0m\n",
      "\u001b[34m[04/26/2022 23:51:47 INFO 140612709816128] Saving model for epoch: 1\u001b[0m\n",
      "\u001b[34m[04/26/2022 23:51:47 INFO 140612709816128] Saved checkpoint to \"/tmp/tmpo83qji52/mx-mod-0000.params\"\u001b[0m\n",
      "\u001b[34m[04/26/2022 23:51:47 INFO 140612709816128] #progress_metric: host=algo-1, completed 13.333333333333334 % of epochs\u001b[0m\n",
      "\u001b[34m#metrics {\"StartTime\": 1651017107.4849179, \"EndTime\": 1651017107.627543, \"Dimensions\": {\"Algorithm\": \"Linear Learner\", \"Host\": \"algo-1\", \"Operation\": \"training\", \"epoch\": 1, \"Meta\": \"training_data_iter\"}, \"Metrics\": {\"Total Records Seen\": {\"sum\": 1009.0, \"count\": 1, \"min\": 1009, \"max\": 1009}, \"Total Batches Seen\": {\"sum\": 13.0, \"count\": 1, \"min\": 13, \"max\": 13}, \"Max Records Seen Between Resets\": {\"sum\": 303.0, \"count\": 1, \"min\": 303, \"max\": 303}, \"Max Batches Seen Between Resets\": {\"sum\": 4.0, \"count\": 1, \"min\": 4, \"max\": 4}, \"Reset Count\": {\"sum\": 4.0, \"count\": 1, \"min\": 4, \"max\": 4}, \"Number of Records Since Last Reset\": {\"sum\": 303.0, \"count\": 1, \"min\": 303, \"max\": 303}, \"Number of Batches Since Last Reset\": {\"sum\": 4.0, \"count\": 1, \"min\": 4, \"max\": 4}}}\u001b[0m\n",
      "\u001b[34m[04/26/2022 23:51:47 INFO 140612709816128] #throughput_metric: host=algo-1, train throughput=2122.180421572573 records/second\u001b[0m\n",
      "\u001b[34m[2022-04-26 23:51:47.762] [tensorio] [info] epoch_stats={\"data_pipeline\": \"/opt/ml/input/data/train\", \"epoch\": 8, \"duration\": 134, \"num_examples\": 4, \"num_bytes\": 29088}\u001b[0m\n",
      "\u001b[34m#metrics {\"StartTime\": 1651017107.7630448, \"EndTime\": 1651017107.7632096, \"Dimensions\": {\"Algorithm\": \"Linear Learner\", \"Host\": \"algo-1\", \"Operation\": \"training\", \"epoch\": 2, \"model\": 0}, \"Metrics\": {\"train_binary_classification_cross_entropy_objective\": {\"sum\": 0.6198531595865885, \"count\": 1, \"min\": 0.6198531595865885, \"max\": 0.6198531595865885}}}\u001b[0m\n",
      "\u001b[34m#metrics {\"StartTime\": 1651017107.763532, \"EndTime\": 1651017107.7635586, \"Dimensions\": {\"Algorithm\": \"Linear Learner\", \"Host\": \"algo-1\", \"Operation\": \"training\", \"epoch\": 2, \"model\": 1}, \"Metrics\": {\"train_binary_classification_cross_entropy_objective\": {\"sum\": 0.6444605000813802, \"count\": 1, \"min\": 0.6444605000813802, \"max\": 0.6444605000813802}}}\u001b[0m\n",
      "\u001b[34m#metrics {\"StartTime\": 1651017107.7636154, \"EndTime\": 1651017107.7636335, \"Dimensions\": {\"Algorithm\": \"Linear Learner\", \"Host\": \"algo-1\", \"Operation\": \"training\", \"epoch\": 2, \"model\": 2}, \"Metrics\": {\"train_binary_classification_cross_entropy_objective\": {\"sum\": 0.6557074991861979, \"count\": 1, \"min\": 0.6557074991861979, \"max\": 0.6557074991861979}}}\u001b[0m\n",
      "\u001b[34m#metrics {\"StartTime\": 1651017107.7636871, \"EndTime\": 1651017107.7637036, \"Dimensions\": {\"Algorithm\": \"Linear Learner\", \"Host\": \"algo-1\", \"Operation\": \"training\", \"epoch\": 2, \"model\": 3}, \"Metrics\": {\"train_binary_classification_cross_entropy_objective\": {\"sum\": 0.6634942881266276, \"count\": 1, \"min\": 0.6634942881266276, \"max\": 0.6634942881266276}}}\u001b[0m\n",
      "\u001b[34m#metrics {\"StartTime\": 1651017107.76376, \"EndTime\": 1651017107.7637773, \"Dimensions\": {\"Algorithm\": \"Linear Learner\", \"Host\": \"algo-1\", \"Operation\": \"training\", \"epoch\": 2, \"model\": 4}, \"Metrics\": {\"train_binary_classification_cross_entropy_objective\": {\"sum\": 0.34922099431355796, \"count\": 1, \"min\": 0.34922099431355796, \"max\": 0.34922099431355796}}}\u001b[0m\n",
      "\u001b[34m#metrics {\"StartTime\": 1651017107.7638297, \"EndTime\": 1651017107.7638457, \"Dimensions\": {\"Algorithm\": \"Linear Learner\", \"Host\": \"algo-1\", \"Operation\": \"training\", \"epoch\": 2, \"model\": 5}, \"Metrics\": {\"train_binary_classification_cross_entropy_objective\": {\"sum\": 0.34612613677978515, \"count\": 1, \"min\": 0.34612613677978515, \"max\": 0.34612613677978515}}}\u001b[0m\n",
      "\u001b[34m#metrics {\"StartTime\": 1651017107.763898, \"EndTime\": 1651017107.7639122, \"Dimensions\": {\"Algorithm\": \"Linear Learner\", \"Host\": \"algo-1\", \"Operation\": \"training\", \"epoch\": 2, \"model\": 6}, \"Metrics\": {\"train_binary_classification_cross_entropy_objective\": {\"sum\": 0.35093830108642576, \"count\": 1, \"min\": 0.35093830108642576, \"max\": 0.35093830108642576}}}\u001b[0m\n",
      "\u001b[34m#metrics {\"StartTime\": 1651017107.7639613, \"EndTime\": 1651017107.763979, \"Dimensions\": {\"Algorithm\": \"Linear Learner\", \"Host\": \"algo-1\", \"Operation\": \"training\", \"epoch\": 2, \"model\": 7}, \"Metrics\": {\"train_binary_classification_cross_entropy_objective\": {\"sum\": 0.3472985076904297, \"count\": 1, \"min\": 0.3472985076904297, \"max\": 0.3472985076904297}}}\u001b[0m\n",
      "\u001b[34m#metrics {\"StartTime\": 1651017107.7640307, \"EndTime\": 1651017107.7640476, \"Dimensions\": {\"Algorithm\": \"Linear Learner\", \"Host\": \"algo-1\", \"Operation\": \"training\", \"epoch\": 2, \"model\": 8}, \"Metrics\": {\"train_binary_classification_cross_entropy_objective\": {\"sum\": 0.6827983474731445, \"count\": 1, \"min\": 0.6827983474731445, \"max\": 0.6827983474731445}}}\u001b[0m\n",
      "\u001b[34m#metrics {\"StartTime\": 1651017107.7641044, \"EndTime\": 1651017107.764121, \"Dimensions\": {\"Algorithm\": \"Linear Learner\", \"Host\": \"algo-1\", \"Operation\": \"training\", \"epoch\": 2, \"model\": 9}, \"Metrics\": {\"train_binary_classification_cross_entropy_objective\": {\"sum\": 0.6574892934163411, \"count\": 1, \"min\": 0.6574892934163411, \"max\": 0.6574892934163411}}}\u001b[0m\n",
      "\u001b[34m#metrics {\"StartTime\": 1651017107.764175, \"EndTime\": 1651017107.7641895, \"Dimensions\": {\"Algorithm\": \"Linear Learner\", \"Host\": \"algo-1\", \"Operation\": \"training\", \"epoch\": 2, \"model\": 10}, \"Metrics\": {\"train_binary_classification_cross_entropy_objective\": {\"sum\": 0.6564546966552735, \"count\": 1, \"min\": 0.6564546966552735, \"max\": 0.6564546966552735}}}\u001b[0m\n",
      "\u001b[34m#metrics {\"StartTime\": 1651017107.7642357, \"EndTime\": 1651017107.7642517, \"Dimensions\": {\"Algorithm\": \"Linear Learner\", \"Host\": \"algo-1\", \"Operation\": \"training\", \"epoch\": 2, \"model\": 11}, \"Metrics\": {\"train_binary_classification_cross_entropy_objective\": {\"sum\": 0.6789790980021159, \"count\": 1, \"min\": 0.6789790980021159, \"max\": 0.6789790980021159}}}\u001b[0m\n",
      "\u001b[34m#metrics {\"StartTime\": 1651017107.7642932, \"EndTime\": 1651017107.7643065, \"Dimensions\": {\"Algorithm\": \"Linear Learner\", \"Host\": \"algo-1\", \"Operation\": \"training\", \"epoch\": 2, \"model\": 12}, \"Metrics\": {\"train_binary_classification_cross_entropy_objective\": {\"sum\": 0.34893911361694335, \"count\": 1, \"min\": 0.34893911361694335, \"max\": 0.34893911361694335}}}\u001b[0m\n",
      "\u001b[34m#metrics {\"StartTime\": 1651017107.7643511, \"EndTime\": 1651017107.764367, \"Dimensions\": {\"Algorithm\": \"Linear Learner\", \"Host\": \"algo-1\", \"Operation\": \"training\", \"epoch\": 2, \"model\": 13}, \"Metrics\": {\"train_binary_classification_cross_entropy_objective\": {\"sum\": 0.34828931172688804, \"count\": 1, \"min\": 0.34828931172688804, \"max\": 0.34828931172688804}}}\u001b[0m\n",
      "\u001b[34m#metrics {\"StartTime\": 1651017107.7644198, \"EndTime\": 1651017107.764439, \"Dimensions\": {\"Algorithm\": \"Linear Learner\", \"Host\": \"algo-1\", \"Operation\": \"training\", \"epoch\": 2, \"model\": 14}, \"Metrics\": {\"train_binary_classification_cross_entropy_objective\": {\"sum\": 0.35045695622762046, \"count\": 1, \"min\": 0.35045695622762046, \"max\": 0.35045695622762046}}}\u001b[0m\n",
      "\u001b[34m#metrics {\"StartTime\": 1651017107.7644906, \"EndTime\": 1651017107.7645059, \"Dimensions\": {\"Algorithm\": \"Linear Learner\", \"Host\": \"algo-1\", \"Operation\": \"training\", \"epoch\": 2, \"model\": 15}, \"Metrics\": {\"train_binary_classification_cross_entropy_objective\": {\"sum\": 0.3487235895792643, \"count\": 1, \"min\": 0.3487235895792643, \"max\": 0.3487235895792643}}}\u001b[0m\n",
      "\u001b[34m#metrics {\"StartTime\": 1651017107.7645557, \"EndTime\": 1651017107.7645712, \"Dimensions\": {\"Algorithm\": \"Linear Learner\", \"Host\": \"algo-1\", \"Operation\": \"training\", \"epoch\": 2, \"model\": 16}, \"Metrics\": {\"train_binary_classification_cross_entropy_objective\": {\"sum\": 0.6413706970214844, \"count\": 1, \"min\": 0.6413706970214844, \"max\": 0.6413706970214844}}}\u001b[0m\n",
      "\u001b[34m#metrics {\"StartTime\": 1651017107.7646198, \"EndTime\": 1651017107.764633, \"Dimensions\": {\"Algorithm\": \"Linear Learner\", \"Host\": \"algo-1\", \"Operation\": \"training\", \"epoch\": 2, \"model\": 17}, \"Metrics\": {\"train_binary_classification_cross_entropy_objective\": {\"sum\": 0.6598385747273763, \"count\": 1, \"min\": 0.6598385747273763, \"max\": 0.6598385747273763}}}\u001b[0m\n",
      "\u001b[34m#metrics {\"StartTime\": 1651017107.764675, \"EndTime\": 1651017107.7646844, \"Dimensions\": {\"Algorithm\": \"Linear Learner\", \"Host\": \"algo-1\", \"Operation\": \"training\", \"epoch\": 2, \"model\": 18}, \"Metrics\": {\"train_binary_classification_cross_entropy_objective\": {\"sum\": 0.605404904683431, \"count\": 1, \"min\": 0.605404904683431, \"max\": 0.605404904683431}}}\u001b[0m\n",
      "\u001b[34m#metrics {\"StartTime\": 1651017107.7647088, \"EndTime\": 1651017107.7647164, \"Dimensions\": {\"Algorithm\": \"Linear Learner\", \"Host\": \"algo-1\", \"Operation\": \"training\", \"epoch\": 2, \"model\": 19}, \"Metrics\": {\"train_binary_classification_cross_entropy_objective\": {\"sum\": 0.621473871866862, \"count\": 1, \"min\": 0.621473871866862, \"max\": 0.621473871866862}}}\u001b[0m\n",
      "\u001b[34m#metrics {\"StartTime\": 1651017107.764739, \"EndTime\": 1651017107.7647498, \"Dimensions\": {\"Algorithm\": \"Linear Learner\", \"Host\": \"algo-1\", \"Operation\": \"training\", \"epoch\": 2, \"model\": 20}, \"Metrics\": {\"train_binary_classification_cross_entropy_objective\": {\"sum\": 0.4961763000488281, \"count\": 1, \"min\": 0.4961763000488281, \"max\": 0.4961763000488281}}}\u001b[0m\n",
      "\u001b[34m#metrics {\"StartTime\": 1651017107.7647913, \"EndTime\": 1651017107.7648048, \"Dimensions\": {\"Algorithm\": \"Linear Learner\", \"Host\": \"algo-1\", \"Operation\": \"training\", \"epoch\": 2, \"model\": 21}, \"Metrics\": {\"train_binary_classification_cross_entropy_objective\": {\"sum\": 0.4872246170043945, \"count\": 1, \"min\": 0.4872246170043945, \"max\": 0.4872246170043945}}}\u001b[0m\n",
      "\u001b[34m#metrics {\"StartTime\": 1651017107.7648368, \"EndTime\": 1651017107.764851, \"Dimensions\": {\"Algorithm\": \"Linear Learner\", \"Host\": \"algo-1\", \"Operation\": \"training\", \"epoch\": 2, \"model\": 22}, \"Metrics\": {\"train_binary_classification_cross_entropy_objective\": {\"sum\": 0.4843970489501953, \"count\": 1, \"min\": 0.4843970489501953, \"max\": 0.4843970489501953}}}\u001b[0m\n",
      "\u001b[34m#metrics {\"StartTime\": 1651017107.764896, \"EndTime\": 1651017107.7649114, \"Dimensions\": {\"Algorithm\": \"Linear Learner\", \"Host\": \"algo-1\", \"Operation\": \"training\", \"epoch\": 2, \"model\": 23}, \"Metrics\": {\"train_binary_classification_cross_entropy_objective\": {\"sum\": 0.4516177177429199, \"count\": 1, \"min\": 0.4516177177429199, \"max\": 0.4516177177429199}}}\u001b[0m\n",
      "\u001b[34m#metrics {\"StartTime\": 1651017107.7650104, \"EndTime\": 1651017107.7650316, \"Dimensions\": {\"Algorithm\": \"Linear Learner\", \"Host\": \"algo-1\", \"Operation\": \"training\", \"epoch\": 2, \"model\": 24}, \"Metrics\": {\"train_binary_classification_cross_entropy_objective\": {\"sum\": 0.6903632227579752, \"count\": 1, \"min\": 0.6903632227579752, \"max\": 0.6903632227579752}}}\u001b[0m\n",
      "\u001b[34m#metrics {\"StartTime\": 1651017107.7651029, \"EndTime\": 1651017107.765123, \"Dimensions\": {\"Algorithm\": \"Linear Learner\", \"Host\": \"algo-1\", \"Operation\": \"training\", \"epoch\": 2, \"model\": 25}, \"Metrics\": {\"train_binary_classification_cross_entropy_objective\": {\"sum\": 0.6889856211344401, \"count\": 1, \"min\": 0.6889856211344401, \"max\": 0.6889856211344401}}}\u001b[0m\n",
      "\u001b[34m#metrics {\"StartTime\": 1651017107.7651885, \"EndTime\": 1651017107.7652066, \"Dimensions\": {\"Algorithm\": \"Linear Learner\", \"Host\": \"algo-1\", \"Operation\": \"training\", \"epoch\": 2, \"model\": 26}, \"Metrics\": {\"train_binary_classification_cross_entropy_objective\": {\"sum\": 0.6831055959065755, \"count\": 1, \"min\": 0.6831055959065755, \"max\": 0.6831055959065755}}}\u001b[0m\n",
      "\u001b[34m#metrics {\"StartTime\": 1651017107.765262, \"EndTime\": 1651017107.765278, \"Dimensions\": {\"Algorithm\": \"Linear Learner\", \"Host\": \"algo-1\", \"Operation\": \"training\", \"epoch\": 2, \"model\": 27}, \"Metrics\": {\"train_binary_classification_cross_entropy_objective\": {\"sum\": 0.6910999552408854, \"count\": 1, \"min\": 0.6910999552408854, \"max\": 0.6910999552408854}}}\u001b[0m\n",
      "\u001b[34m#metrics {\"StartTime\": 1651017107.7653294, \"EndTime\": 1651017107.7653465, \"Dimensions\": {\"Algorithm\": \"Linear Learner\", \"Host\": \"algo-1\", \"Operation\": \"training\", \"epoch\": 2, \"model\": 28}, \"Metrics\": {\"train_binary_classification_cross_entropy_objective\": {\"sum\": 0.6257533009847005, \"count\": 1, \"min\": 0.6257533009847005, \"max\": 0.6257533009847005}}}\u001b[0m\n",
      "\u001b[34m#metrics {\"StartTime\": 1651017107.765402, \"EndTime\": 1651017107.765417, \"Dimensions\": {\"Algorithm\": \"Linear Learner\", \"Host\": \"algo-1\", \"Operation\": \"training\", \"epoch\": 2, \"model\": 29}, \"Metrics\": {\"train_binary_classification_cross_entropy_objective\": {\"sum\": 0.6361278279622395, \"count\": 1, \"min\": 0.6361278279622395, \"max\": 0.6361278279622395}}}\u001b[0m\n",
      "\u001b[34m#metrics {\"StartTime\": 1651017107.7654696, \"EndTime\": 1651017107.7654858, \"Dimensions\": {\"Algorithm\": \"Linear Learner\", \"Host\": \"algo-1\", \"Operation\": \"training\", \"epoch\": 2, \"model\": 30}, \"Metrics\": {\"train_binary_classification_cross_entropy_objective\": {\"sum\": 0.6394407272338867, \"count\": 1, \"min\": 0.6394407272338867, \"max\": 0.6394407272338867}}}\u001b[0m\n",
      "\u001b[34m#metrics {\"StartTime\": 1651017107.765541, \"EndTime\": 1651017107.7655587, \"Dimensions\": {\"Algorithm\": \"Linear Learner\", \"Host\": \"algo-1\", \"Operation\": \"training\", \"epoch\": 2, \"model\": 31}, \"Metrics\": {\"train_binary_classification_cross_entropy_objective\": {\"sum\": 0.6320779546101888, \"count\": 1, \"min\": 0.6320779546101888, \"max\": 0.6320779546101888}}}\u001b[0m\n",
      "\u001b[34m[04/26/2022 23:51:47 INFO 140612709816128] #quality_metric: host=algo-1, epoch=2, train binary_classification_cross_entropy_objective <loss>=0.6198531595865885\u001b[0m\n",
      "\u001b[34m[04/26/2022 23:51:47 INFO 140612709816128] #early_stopping_criteria_metric: host=algo-1, epoch=2, criteria=binary_classification_cross_entropy_objective, value=0.34612613677978515\u001b[0m\n",
      "\u001b[34m[04/26/2022 23:51:47 INFO 140612709816128] Epoch 2: Loss improved. Updating best model\u001b[0m\n",
      "\u001b[34m[04/26/2022 23:51:47 INFO 140612709816128] Saving model for epoch: 2\u001b[0m\n",
      "\u001b[34m[04/26/2022 23:51:47 INFO 140612709816128] Saved checkpoint to \"/tmp/tmpaklaqnpr/mx-mod-0000.params\"\u001b[0m\n",
      "\u001b[34m[04/26/2022 23:51:47 INFO 140612709816128] #progress_metric: host=algo-1, completed 20.0 % of epochs\u001b[0m\n",
      "\u001b[34m#metrics {\"StartTime\": 1651017107.6278577, \"EndTime\": 1651017107.7779605, \"Dimensions\": {\"Algorithm\": \"Linear Learner\", \"Host\": \"algo-1\", \"Operation\": \"training\", \"epoch\": 2, \"Meta\": \"training_data_iter\"}, \"Metrics\": {\"Total Records Seen\": {\"sum\": 1312.0, \"count\": 1, \"min\": 1312, \"max\": 1312}, \"Total Batches Seen\": {\"sum\": 17.0, \"count\": 1, \"min\": 17, \"max\": 17}, \"Max Records Seen Between Resets\": {\"sum\": 303.0, \"count\": 1, \"min\": 303, \"max\": 303}, \"Max Batches Seen Between Resets\": {\"sum\": 4.0, \"count\": 1, \"min\": 4, \"max\": 4}, \"Reset Count\": {\"sum\": 5.0, \"count\": 1, \"min\": 5, \"max\": 5}, \"Number of Records Since Last Reset\": {\"sum\": 303.0, \"count\": 1, \"min\": 303, \"max\": 303}, \"Number of Batches Since Last Reset\": {\"sum\": 4.0, \"count\": 1, \"min\": 4, \"max\": 4}}}\u001b[0m\n",
      "\u001b[34m[04/26/2022 23:51:47 INFO 140612709816128] #throughput_metric: host=algo-1, train throughput=2015.4402008344844 records/second\u001b[0m\n",
      "\u001b[34m[2022-04-26 23:51:47.923] [tensorio] [info] epoch_stats={\"data_pipeline\": \"/opt/ml/input/data/train\", \"epoch\": 10, \"duration\": 144, \"num_examples\": 4, \"num_bytes\": 29088}\u001b[0m\n",
      "\u001b[34m#metrics {\"StartTime\": 1651017107.9238763, \"EndTime\": 1651017107.9239929, \"Dimensions\": {\"Algorithm\": \"Linear Learner\", \"Host\": \"algo-1\", \"Operation\": \"training\", \"epoch\": 3, \"model\": 0}, \"Metrics\": {\"train_binary_classification_cross_entropy_objective\": {\"sum\": 0.5973580169677735, \"count\": 1, \"min\": 0.5973580169677735, \"max\": 0.5973580169677735}}}\u001b[0m\n",
      "\u001b[34m#metrics {\"StartTime\": 1651017107.9241211, \"EndTime\": 1651017107.9241467, \"Dimensions\": {\"Algorithm\": \"Linear Learner\", \"Host\": \"algo-1\", \"Operation\": \"training\", \"epoch\": 3, \"model\": 1}, \"Metrics\": {\"train_binary_classification_cross_entropy_objective\": {\"sum\": 0.6210063171386718, \"count\": 1, \"min\": 0.6210063171386718, \"max\": 0.6210063171386718}}}\u001b[0m\n",
      "\u001b[34m#metrics {\"StartTime\": 1651017107.9242127, \"EndTime\": 1651017107.9242349, \"Dimensions\": {\"Algorithm\": \"Linear Learner\", \"Host\": \"algo-1\", \"Operation\": \"training\", \"epoch\": 3, \"model\": 2}, \"Metrics\": {\"train_binary_classification_cross_entropy_objective\": {\"sum\": 0.6308654149373373, \"count\": 1, \"min\": 0.6308654149373373, \"max\": 0.6308654149373373}}}\u001b[0m\n",
      "\u001b[34m#metrics {\"StartTime\": 1651017107.9242907, \"EndTime\": 1651017107.924309, \"Dimensions\": {\"Algorithm\": \"Linear Learner\", \"Host\": \"algo-1\", \"Operation\": \"training\", \"epoch\": 3, \"model\": 3}, \"Metrics\": {\"train_binary_classification_cross_entropy_objective\": {\"sum\": 0.6392192840576172, \"count\": 1, \"min\": 0.6392192840576172, \"max\": 0.6392192840576172}}}\u001b[0m\n",
      "\u001b[34m#metrics {\"StartTime\": 1651017107.9244456, \"EndTime\": 1651017107.924466, \"Dimensions\": {\"Algorithm\": \"Linear Learner\", \"Host\": \"algo-1\", \"Operation\": \"training\", \"epoch\": 3, \"model\": 4}, \"Metrics\": {\"train_binary_classification_cross_entropy_objective\": {\"sum\": 0.3554546864827474, \"count\": 1, \"min\": 0.3554546864827474, \"max\": 0.3554546864827474}}}\u001b[0m\n",
      "\u001b[34m#metrics {\"StartTime\": 1651017107.9245052, \"EndTime\": 1651017107.9245157, \"Dimensions\": {\"Algorithm\": \"Linear Learner\", \"Host\": \"algo-1\", \"Operation\": \"training\", \"epoch\": 3, \"model\": 5}, \"Metrics\": {\"train_binary_classification_cross_entropy_objective\": {\"sum\": 0.35515326182047524, \"count\": 1, \"min\": 0.35515326182047524, \"max\": 0.35515326182047524}}}\u001b[0m\n",
      "\u001b[34m#metrics {\"StartTime\": 1651017107.9245431, \"EndTime\": 1651017107.9245493, \"Dimensions\": {\"Algorithm\": \"Linear Learner\", \"Host\": \"algo-1\", \"Operation\": \"training\", \"epoch\": 3, \"model\": 6}, \"Metrics\": {\"train_binary_classification_cross_entropy_objective\": {\"sum\": 0.35629735310872396, \"count\": 1, \"min\": 0.35629735310872396, \"max\": 0.35629735310872396}}}\u001b[0m\n",
      "\u001b[34m#metrics {\"StartTime\": 1651017107.9245727, \"EndTime\": 1651017107.9245808, \"Dimensions\": {\"Algorithm\": \"Linear Learner\", \"Host\": \"algo-1\", \"Operation\": \"training\", \"epoch\": 3, \"model\": 7}, \"Metrics\": {\"train_binary_classification_cross_entropy_objective\": {\"sum\": 0.35593660990397136, \"count\": 1, \"min\": 0.35593660990397136, \"max\": 0.35593660990397136}}}\u001b[0m\n",
      "\u001b[34m#metrics {\"StartTime\": 1651017107.9246035, \"EndTime\": 1651017107.9246101, \"Dimensions\": {\"Algorithm\": \"Linear Learner\", \"Host\": \"algo-1\", \"Operation\": \"training\", \"epoch\": 3, \"model\": 8}, \"Metrics\": {\"train_binary_classification_cross_entropy_objective\": {\"sum\": 0.6571915181477864, \"count\": 1, \"min\": 0.6571915181477864, \"max\": 0.6571915181477864}}}\u001b[0m\n",
      "\u001b[34m#metrics {\"StartTime\": 1651017107.9246325, \"EndTime\": 1651017107.9246397, \"Dimensions\": {\"Algorithm\": \"Linear Learner\", \"Host\": \"algo-1\", \"Operation\": \"training\", \"epoch\": 3, \"model\": 9}, \"Metrics\": {\"train_binary_classification_cross_entropy_objective\": {\"sum\": 0.6330397160847981, \"count\": 1, \"min\": 0.6330397160847981, \"max\": 0.6330397160847981}}}\u001b[0m\n",
      "\u001b[34m#metrics {\"StartTime\": 1651017107.9246619, \"EndTime\": 1651017107.9246697, \"Dimensions\": {\"Algorithm\": \"Linear Learner\", \"Host\": \"algo-1\", \"Operation\": \"training\", \"epoch\": 3, \"model\": 10}, \"Metrics\": {\"train_binary_classification_cross_entropy_objective\": {\"sum\": 0.6325984700520834, \"count\": 1, \"min\": 0.6325984700520834, \"max\": 0.6325984700520834}}}\u001b[0m\n",
      "\u001b[34m#metrics {\"StartTime\": 1651017107.924691, \"EndTime\": 1651017107.924698, \"Dimensions\": {\"Algorithm\": \"Linear Learner\", \"Host\": \"algo-1\", \"Operation\": \"training\", \"epoch\": 3, \"model\": 11}, \"Metrics\": {\"train_binary_classification_cross_entropy_objective\": {\"sum\": 0.6535081990559896, \"count\": 1, \"min\": 0.6535081990559896, \"max\": 0.6535081990559896}}}\u001b[0m\n",
      "\u001b[34m#metrics {\"StartTime\": 1651017107.92472, \"EndTime\": 1651017107.924727, \"Dimensions\": {\"Algorithm\": \"Linear Learner\", \"Host\": \"algo-1\", \"Operation\": \"training\", \"epoch\": 3, \"model\": 12}, \"Metrics\": {\"train_binary_classification_cross_entropy_objective\": {\"sum\": 0.3510094960530599, \"count\": 1, \"min\": 0.3510094960530599, \"max\": 0.3510094960530599}}}\u001b[0m\n",
      "\u001b[34m#metrics {\"StartTime\": 1651017107.9247544, \"EndTime\": 1651017107.9247682, \"Dimensions\": {\"Algorithm\": \"Linear Learner\", \"Host\": \"algo-1\", \"Operation\": \"training\", \"epoch\": 3, \"model\": 13}, \"Metrics\": {\"train_binary_classification_cross_entropy_objective\": {\"sum\": 0.3514539845784505, \"count\": 1, \"min\": 0.3514539845784505, \"max\": 0.3514539845784505}}}\u001b[0m\n",
      "\u001b[34m#metrics {\"StartTime\": 1651017107.924815, \"EndTime\": 1651017107.9248326, \"Dimensions\": {\"Algorithm\": \"Linear Learner\", \"Host\": \"algo-1\", \"Operation\": \"training\", \"epoch\": 3, \"model\": 14}, \"Metrics\": {\"train_binary_classification_cross_entropy_objective\": {\"sum\": 0.35304251352945965, \"count\": 1, \"min\": 0.35304251352945965, \"max\": 0.35304251352945965}}}\u001b[0m\n",
      "\u001b[34m#metrics {\"StartTime\": 1651017107.9248817, \"EndTime\": 1651017107.9248955, \"Dimensions\": {\"Algorithm\": \"Linear Learner\", \"Host\": \"algo-1\", \"Operation\": \"training\", \"epoch\": 3, \"model\": 15}, \"Metrics\": {\"train_binary_classification_cross_entropy_objective\": {\"sum\": 0.35594565073649087, \"count\": 1, \"min\": 0.35594565073649087, \"max\": 0.35594565073649087}}}\u001b[0m\n",
      "\u001b[34m#metrics {\"StartTime\": 1651017107.9249408, \"EndTime\": 1651017107.924954, \"Dimensions\": {\"Algorithm\": \"Linear Learner\", \"Host\": \"algo-1\", \"Operation\": \"training\", \"epoch\": 3, \"model\": 16}, \"Metrics\": {\"train_binary_classification_cross_entropy_objective\": {\"sum\": 0.62001220703125, \"count\": 1, \"min\": 0.62001220703125, \"max\": 0.62001220703125}}}\u001b[0m\n",
      "\u001b[34m#metrics {\"StartTime\": 1651017107.9250052, \"EndTime\": 1651017107.9250212, \"Dimensions\": {\"Algorithm\": \"Linear Learner\", \"Host\": \"algo-1\", \"Operation\": \"training\", \"epoch\": 3, \"model\": 17}, \"Metrics\": {\"train_binary_classification_cross_entropy_objective\": {\"sum\": 0.6360827763875325, \"count\": 1, \"min\": 0.6360827763875325, \"max\": 0.6360827763875325}}}\u001b[0m\n",
      "\u001b[34m#metrics {\"StartTime\": 1651017107.9250693, \"EndTime\": 1651017107.9250844, \"Dimensions\": {\"Algorithm\": \"Linear Learner\", \"Host\": \"algo-1\", \"Operation\": \"training\", \"epoch\": 3, \"model\": 18}, \"Metrics\": {\"train_binary_classification_cross_entropy_objective\": {\"sum\": 0.5866117223103842, \"count\": 1, \"min\": 0.5866117223103842, \"max\": 0.5866117223103842}}}\u001b[0m\n",
      "\u001b[34m#metrics {\"StartTime\": 1651017107.9251337, \"EndTime\": 1651017107.9251502, \"Dimensions\": {\"Algorithm\": \"Linear Learner\", \"Host\": \"algo-1\", \"Operation\": \"training\", \"epoch\": 3, \"model\": 19}, \"Metrics\": {\"train_binary_classification_cross_entropy_objective\": {\"sum\": 0.6022295888264974, \"count\": 1, \"min\": 0.6022295888264974, \"max\": 0.6022295888264974}}}\u001b[0m\n",
      "\u001b[34m#metrics {\"StartTime\": 1651017107.9252017, \"EndTime\": 1651017107.925217, \"Dimensions\": {\"Algorithm\": \"Linear Learner\", \"Host\": \"algo-1\", \"Operation\": \"training\", \"epoch\": 3, \"model\": 20}, \"Metrics\": {\"train_binary_classification_cross_entropy_objective\": {\"sum\": 0.5895388921101888, \"count\": 1, \"min\": 0.5895388921101888, \"max\": 0.5895388921101888}}}\u001b[0m\n",
      "\u001b[34m#metrics {\"StartTime\": 1651017107.9252653, \"EndTime\": 1651017107.9252815, \"Dimensions\": {\"Algorithm\": \"Linear Learner\", \"Host\": \"algo-1\", \"Operation\": \"training\", \"epoch\": 3, \"model\": 21}, \"Metrics\": {\"train_binary_classification_cross_entropy_objective\": {\"sum\": 0.5889144643147787, \"count\": 1, \"min\": 0.5889144643147787, \"max\": 0.5889144643147787}}}\u001b[0m\n",
      "\u001b[34m#metrics {\"StartTime\": 1651017107.925324, \"EndTime\": 1651017107.9253385, \"Dimensions\": {\"Algorithm\": \"Linear Learner\", \"Host\": \"algo-1\", \"Operation\": \"training\", \"epoch\": 3, \"model\": 22}, \"Metrics\": {\"train_binary_classification_cross_entropy_objective\": {\"sum\": 0.5901890055338541, \"count\": 1, \"min\": 0.5901890055338541, \"max\": 0.5901890055338541}}}\u001b[0m\n",
      "\u001b[34m#metrics {\"StartTime\": 1651017107.9253821, \"EndTime\": 1651017107.9253967, \"Dimensions\": {\"Algorithm\": \"Linear Learner\", \"Host\": \"algo-1\", \"Operation\": \"training\", \"epoch\": 3, \"model\": 23}, \"Metrics\": {\"train_binary_classification_cross_entropy_objective\": {\"sum\": 0.5905410639444987, \"count\": 1, \"min\": 0.5905410639444987, \"max\": 0.5905410639444987}}}\u001b[0m\n",
      "\u001b[34m#metrics {\"StartTime\": 1651017107.9254436, \"EndTime\": 1651017107.9254553, \"Dimensions\": {\"Algorithm\": \"Linear Learner\", \"Host\": \"algo-1\", \"Operation\": \"training\", \"epoch\": 3, \"model\": 24}, \"Metrics\": {\"train_binary_classification_cross_entropy_objective\": {\"sum\": 0.6873759460449219, \"count\": 1, \"min\": 0.6873759460449219, \"max\": 0.6873759460449219}}}\u001b[0m\n",
      "\u001b[34m#metrics {\"StartTime\": 1651017107.925503, \"EndTime\": 1651017107.9255142, \"Dimensions\": {\"Algorithm\": \"Linear Learner\", \"Host\": \"algo-1\", \"Operation\": \"training\", \"epoch\": 3, \"model\": 25}, \"Metrics\": {\"train_binary_classification_cross_entropy_objective\": {\"sum\": 0.6892389297485352, \"count\": 1, \"min\": 0.6892389297485352, \"max\": 0.6892389297485352}}}\u001b[0m\n",
      "\u001b[34m#metrics {\"StartTime\": 1651017107.9255607, \"EndTime\": 1651017107.9255772, \"Dimensions\": {\"Algorithm\": \"Linear Learner\", \"Host\": \"algo-1\", \"Operation\": \"training\", \"epoch\": 3, \"model\": 26}, \"Metrics\": {\"train_binary_classification_cross_entropy_objective\": {\"sum\": 0.6892655436197916, \"count\": 1, \"min\": 0.6892655436197916, \"max\": 0.6892655436197916}}}\u001b[0m\n",
      "\u001b[34m#metrics {\"StartTime\": 1651017107.9256248, \"EndTime\": 1651017107.92564, \"Dimensions\": {\"Algorithm\": \"Linear Learner\", \"Host\": \"algo-1\", \"Operation\": \"training\", \"epoch\": 3, \"model\": 27}, \"Metrics\": {\"train_binary_classification_cross_entropy_objective\": {\"sum\": 0.6832876586914063, \"count\": 1, \"min\": 0.6832876586914063, \"max\": 0.6832876586914063}}}\u001b[0m\n",
      "\u001b[34m#metrics {\"StartTime\": 1651017107.9256914, \"EndTime\": 1651017107.925708, \"Dimensions\": {\"Algorithm\": \"Linear Learner\", \"Host\": \"algo-1\", \"Operation\": \"training\", \"epoch\": 3, \"model\": 28}, \"Metrics\": {\"train_binary_classification_cross_entropy_objective\": {\"sum\": 0.6594674428304036, \"count\": 1, \"min\": 0.6594674428304036, \"max\": 0.6594674428304036}}}\u001b[0m\n",
      "\u001b[34m#metrics {\"StartTime\": 1651017107.925757, \"EndTime\": 1651017107.9257731, \"Dimensions\": {\"Algorithm\": \"Linear Learner\", \"Host\": \"algo-1\", \"Operation\": \"training\", \"epoch\": 3, \"model\": 29}, \"Metrics\": {\"train_binary_classification_cross_entropy_objective\": {\"sum\": 0.7134950002034505, \"count\": 1, \"min\": 0.7134950002034505, \"max\": 0.7134950002034505}}}\u001b[0m\n",
      "\u001b[34m#metrics {\"StartTime\": 1651017107.9258218, \"EndTime\": 1651017107.9258373, \"Dimensions\": {\"Algorithm\": \"Linear Learner\", \"Host\": \"algo-1\", \"Operation\": \"training\", \"epoch\": 3, \"model\": 30}, \"Metrics\": {\"train_binary_classification_cross_entropy_objective\": {\"sum\": 0.7128129704793295, \"count\": 1, \"min\": 0.7128129704793295, \"max\": 0.7128129704793295}}}\u001b[0m\n",
      "\u001b[34m#metrics {\"StartTime\": 1651017107.925883, \"EndTime\": 1651017107.9259026, \"Dimensions\": {\"Algorithm\": \"Linear Learner\", \"Host\": \"algo-1\", \"Operation\": \"training\", \"epoch\": 3, \"model\": 31}, \"Metrics\": {\"train_binary_classification_cross_entropy_objective\": {\"sum\": 0.7122915649414062, \"count\": 1, \"min\": 0.7122915649414062, \"max\": 0.7122915649414062}}}\u001b[0m\n",
      "\u001b[34m[04/26/2022 23:51:47 INFO 140612709816128] #quality_metric: host=algo-1, epoch=3, train binary_classification_cross_entropy_objective <loss>=0.5973580169677735\u001b[0m\n",
      "\u001b[34m[04/26/2022 23:51:47 INFO 140612709816128] #early_stopping_criteria_metric: host=algo-1, epoch=3, criteria=binary_classification_cross_entropy_objective, value=0.3510094960530599\u001b[0m\n",
      "\u001b[34m[04/26/2022 23:51:47 INFO 140612709816128] Saving model for epoch: 3\u001b[0m\n",
      "\u001b[34m[04/26/2022 23:51:47 INFO 140612709816128] Saved checkpoint to \"/tmp/tmp8ng1e0kt/mx-mod-0000.params\"\u001b[0m\n",
      "\u001b[34m[04/26/2022 23:51:47 INFO 140612709816128] #progress_metric: host=algo-1, completed 26.666666666666668 % of epochs\u001b[0m\n",
      "\u001b[34m#metrics {\"StartTime\": 1651017107.778451, \"EndTime\": 1651017107.938709, \"Dimensions\": {\"Algorithm\": \"Linear Learner\", \"Host\": \"algo-1\", \"Operation\": \"training\", \"epoch\": 3, \"Meta\": \"training_data_iter\"}, \"Metrics\": {\"Total Records Seen\": {\"sum\": 1615.0, \"count\": 1, \"min\": 1615, \"max\": 1615}, \"Total Batches Seen\": {\"sum\": 21.0, \"count\": 1, \"min\": 21, \"max\": 21}, \"Max Records Seen Between Resets\": {\"sum\": 303.0, \"count\": 1, \"min\": 303, \"max\": 303}, \"Max Batches Seen Between Resets\": {\"sum\": 4.0, \"count\": 1, \"min\": 4, \"max\": 4}, \"Reset Count\": {\"sum\": 6.0, \"count\": 1, \"min\": 6, \"max\": 6}, \"Number of Records Since Last Reset\": {\"sum\": 303.0, \"count\": 1, \"min\": 303, \"max\": 303}, \"Number of Batches Since Last Reset\": {\"sum\": 4.0, \"count\": 1, \"min\": 4, \"max\": 4}}}\u001b[0m\n",
      "\u001b[34m[04/26/2022 23:51:47 INFO 140612709816128] #throughput_metric: host=algo-1, train throughput=1889.0537177613908 records/second\u001b[0m\n",
      "\u001b[34m[2022-04-26 23:51:48.094] [tensorio] [info] epoch_stats={\"data_pipeline\": \"/opt/ml/input/data/train\", \"epoch\": 12, \"duration\": 155, \"num_examples\": 4, \"num_bytes\": 29088}\u001b[0m\n",
      "\u001b[34m#metrics {\"StartTime\": 1651017108.0949488, \"EndTime\": 1651017108.0950587, \"Dimensions\": {\"Algorithm\": \"Linear Learner\", \"Host\": \"algo-1\", \"Operation\": \"training\", \"epoch\": 4, \"model\": 0}, \"Metrics\": {\"train_binary_classification_cross_entropy_objective\": {\"sum\": 0.5772270329793294, \"count\": 1, \"min\": 0.5772270329793294, \"max\": 0.5772270329793294}}}\u001b[0m\n",
      "\u001b[34m#metrics {\"StartTime\": 1651017108.0951927, \"EndTime\": 1651017108.0952168, \"Dimensions\": {\"Algorithm\": \"Linear Learner\", \"Host\": \"algo-1\", \"Operation\": \"training\", \"epoch\": 4, \"model\": 1}, \"Metrics\": {\"train_binary_classification_cross_entropy_objective\": {\"sum\": 0.5997655232747395, \"count\": 1, \"min\": 0.5997655232747395, \"max\": 0.5997655232747395}}}\u001b[0m\n",
      "\u001b[34m#metrics {\"StartTime\": 1651017108.095271, \"EndTime\": 1651017108.0952892, \"Dimensions\": {\"Algorithm\": \"Linear Learner\", \"Host\": \"algo-1\", \"Operation\": \"training\", \"epoch\": 4, \"model\": 2}, \"Metrics\": {\"train_binary_classification_cross_entropy_objective\": {\"sum\": 0.6084648895263672, \"count\": 1, \"min\": 0.6084648895263672, \"max\": 0.6084648895263672}}}\u001b[0m\n",
      "\u001b[34m#metrics {\"StartTime\": 1651017108.0953405, \"EndTime\": 1651017108.0953567, \"Dimensions\": {\"Algorithm\": \"Linear Learner\", \"Host\": \"algo-1\", \"Operation\": \"training\", \"epoch\": 4, \"model\": 3}, \"Metrics\": {\"train_binary_classification_cross_entropy_objective\": {\"sum\": 0.6171630350748698, \"count\": 1, \"min\": 0.6171630350748698, \"max\": 0.6171630350748698}}}\u001b[0m\n",
      "\u001b[34m#metrics {\"StartTime\": 1651017108.095408, \"EndTime\": 1651017108.095424, \"Dimensions\": {\"Algorithm\": \"Linear Learner\", \"Host\": \"algo-1\", \"Operation\": \"training\", \"epoch\": 4, \"model\": 4}, \"Metrics\": {\"train_binary_classification_cross_entropy_objective\": {\"sum\": 0.37188159306844076, \"count\": 1, \"min\": 0.37188159306844076, \"max\": 0.37188159306844076}}}\u001b[0m\n",
      "\u001b[34m#metrics {\"StartTime\": 1651017108.0954726, \"EndTime\": 1651017108.095489, \"Dimensions\": {\"Algorithm\": \"Linear Learner\", \"Host\": \"algo-1\", \"Operation\": \"training\", \"epoch\": 4, \"model\": 5}, \"Metrics\": {\"train_binary_classification_cross_entropy_objective\": {\"sum\": 0.3739471181233724, \"count\": 1, \"min\": 0.3739471181233724, \"max\": 0.3739471181233724}}}\u001b[0m\n",
      "\u001b[34m#metrics {\"StartTime\": 1651017108.0955439, \"EndTime\": 1651017108.0955718, \"Dimensions\": {\"Algorithm\": \"Linear Learner\", \"Host\": \"algo-1\", \"Operation\": \"training\", \"epoch\": 4, \"model\": 6}, \"Metrics\": {\"train_binary_classification_cross_entropy_objective\": {\"sum\": 0.37362032572428383, \"count\": 1, \"min\": 0.37362032572428383, \"max\": 0.37362032572428383}}}\u001b[0m\n",
      "\u001b[34m#metrics {\"StartTime\": 1651017108.095652, \"EndTime\": 1651017108.0956712, \"Dimensions\": {\"Algorithm\": \"Linear Learner\", \"Host\": \"algo-1\", \"Operation\": \"training\", \"epoch\": 4, \"model\": 7}, \"Metrics\": {\"train_binary_classification_cross_entropy_objective\": {\"sum\": 0.37467413584391274, \"count\": 1, \"min\": 0.37467413584391274, \"max\": 0.37467413584391274}}}\u001b[0m\n",
      "\u001b[34m#metrics {\"StartTime\": 1651017108.0957263, \"EndTime\": 1651017108.0957434, \"Dimensions\": {\"Algorithm\": \"Linear Learner\", \"Host\": \"algo-1\", \"Operation\": \"training\", \"epoch\": 4, \"model\": 8}, \"Metrics\": {\"train_binary_classification_cross_entropy_objective\": {\"sum\": 0.634005495707194, \"count\": 1, \"min\": 0.634005495707194, \"max\": 0.634005495707194}}}\u001b[0m\n",
      "\u001b[34m#metrics {\"StartTime\": 1651017108.095796, \"EndTime\": 1651017108.0958133, \"Dimensions\": {\"Algorithm\": \"Linear Learner\", \"Host\": \"algo-1\", \"Operation\": \"training\", \"epoch\": 4, \"model\": 9}, \"Metrics\": {\"train_binary_classification_cross_entropy_objective\": {\"sum\": 0.6107876968383789, \"count\": 1, \"min\": 0.6107876968383789, \"max\": 0.6107876968383789}}}\u001b[0m\n",
      "\u001b[34m#metrics {\"StartTime\": 1651017108.0958652, \"EndTime\": 1651017108.0958817, \"Dimensions\": {\"Algorithm\": \"Linear Learner\", \"Host\": \"algo-1\", \"Operation\": \"training\", \"epoch\": 4, \"model\": 10}, \"Metrics\": {\"train_binary_classification_cross_entropy_objective\": {\"sum\": 0.6111021169026692, \"count\": 1, \"min\": 0.6111021169026692, \"max\": 0.6111021169026692}}}\u001b[0m\n",
      "\u001b[34m#metrics {\"StartTime\": 1651017108.095951, \"EndTime\": 1651017108.0959673, \"Dimensions\": {\"Algorithm\": \"Linear Learner\", \"Host\": \"algo-1\", \"Operation\": \"training\", \"epoch\": 4, \"model\": 11}, \"Metrics\": {\"train_binary_classification_cross_entropy_objective\": {\"sum\": 0.6302843348185221, \"count\": 1, \"min\": 0.6302843348185221, \"max\": 0.6302843348185221}}}\u001b[0m\n",
      "\u001b[34m#metrics {\"StartTime\": 1651017108.0960171, \"EndTime\": 1651017108.0960333, \"Dimensions\": {\"Algorithm\": \"Linear Learner\", \"Host\": \"algo-1\", \"Operation\": \"training\", \"epoch\": 4, \"model\": 12}, \"Metrics\": {\"train_binary_classification_cross_entropy_objective\": {\"sum\": 0.3682013829549154, \"count\": 1, \"min\": 0.3682013829549154, \"max\": 0.3682013829549154}}}\u001b[0m\n",
      "\u001b[34m#metrics {\"StartTime\": 1651017108.0960822, \"EndTime\": 1651017108.0960972, \"Dimensions\": {\"Algorithm\": \"Linear Learner\", \"Host\": \"algo-1\", \"Operation\": \"training\", \"epoch\": 4, \"model\": 13}, \"Metrics\": {\"train_binary_classification_cross_entropy_objective\": {\"sum\": 0.36708286285400393, \"count\": 1, \"min\": 0.36708286285400393, \"max\": 0.36708286285400393}}}\u001b[0m\n",
      "\u001b[34m#metrics {\"StartTime\": 1651017108.0961633, \"EndTime\": 1651017108.09618, \"Dimensions\": {\"Algorithm\": \"Linear Learner\", \"Host\": \"algo-1\", \"Operation\": \"training\", \"epoch\": 4, \"model\": 14}, \"Metrics\": {\"train_binary_classification_cross_entropy_objective\": {\"sum\": 0.36868675231933595, \"count\": 1, \"min\": 0.36868675231933595, \"max\": 0.36868675231933595}}}\u001b[0m\n",
      "\u001b[34m#metrics {\"StartTime\": 1651017108.0962284, \"EndTime\": 1651017108.0962446, \"Dimensions\": {\"Algorithm\": \"Linear Learner\", \"Host\": \"algo-1\", \"Operation\": \"training\", \"epoch\": 4, \"model\": 15}, \"Metrics\": {\"train_binary_classification_cross_entropy_objective\": {\"sum\": 0.37247900644938153, \"count\": 1, \"min\": 0.37247900644938153, \"max\": 0.37247900644938153}}}\u001b[0m\n",
      "\u001b[34m#metrics {\"StartTime\": 1651017108.0962963, \"EndTime\": 1651017108.096313, \"Dimensions\": {\"Algorithm\": \"Linear Learner\", \"Host\": \"algo-1\", \"Operation\": \"training\", \"epoch\": 4, \"model\": 16}, \"Metrics\": {\"train_binary_classification_cross_entropy_objective\": {\"sum\": 0.6015674845377604, \"count\": 1, \"min\": 0.6015674845377604, \"max\": 0.6015674845377604}}}\u001b[0m\n",
      "\u001b[34m#metrics {\"StartTime\": 1651017108.0963593, \"EndTime\": 1651017108.0963945, \"Dimensions\": {\"Algorithm\": \"Linear Learner\", \"Host\": \"algo-1\", \"Operation\": \"training\", \"epoch\": 4, \"model\": 17}, \"Metrics\": {\"train_binary_classification_cross_entropy_objective\": {\"sum\": 0.6151055145263672, \"count\": 1, \"min\": 0.6151055145263672, \"max\": 0.6151055145263672}}}\u001b[0m\n",
      "\u001b[34m#metrics {\"StartTime\": 1651017108.096482, \"EndTime\": 1651017108.0965023, \"Dimensions\": {\"Algorithm\": \"Linear Learner\", \"Host\": \"algo-1\", \"Operation\": \"training\", \"epoch\": 4, \"model\": 18}, \"Metrics\": {\"train_binary_classification_cross_entropy_objective\": {\"sum\": 0.5706556447347005, \"count\": 1, \"min\": 0.5706556447347005, \"max\": 0.5706556447347005}}}\u001b[0m\n",
      "\u001b[34m#metrics {\"StartTime\": 1651017108.0965624, \"EndTime\": 1651017108.096581, \"Dimensions\": {\"Algorithm\": \"Linear Learner\", \"Host\": \"algo-1\", \"Operation\": \"training\", \"epoch\": 4, \"model\": 19}, \"Metrics\": {\"train_binary_classification_cross_entropy_objective\": {\"sum\": 0.5856048711140951, \"count\": 1, \"min\": 0.5856048711140951, \"max\": 0.5856048711140951}}}\u001b[0m\n",
      "\u001b[34m#metrics {\"StartTime\": 1651017108.0966349, \"EndTime\": 1651017108.0966525, \"Dimensions\": {\"Algorithm\": \"Linear Learner\", \"Host\": \"algo-1\", \"Operation\": \"training\", \"epoch\": 4, \"model\": 20}, \"Metrics\": {\"train_binary_classification_cross_entropy_objective\": {\"sum\": 0.5921568806966145, \"count\": 1, \"min\": 0.5921568806966145, \"max\": 0.5921568806966145}}}\u001b[0m\n",
      "\u001b[34m#metrics {\"StartTime\": 1651017108.096713, \"EndTime\": 1651017108.0967314, \"Dimensions\": {\"Algorithm\": \"Linear Learner\", \"Host\": \"algo-1\", \"Operation\": \"training\", \"epoch\": 4, \"model\": 21}, \"Metrics\": {\"train_binary_classification_cross_entropy_objective\": {\"sum\": 0.6002352650960286, \"count\": 1, \"min\": 0.6002352650960286, \"max\": 0.6002352650960286}}}\u001b[0m\n",
      "\u001b[34m#metrics {\"StartTime\": 1651017108.096785, \"EndTime\": 1651017108.096819, \"Dimensions\": {\"Algorithm\": \"Linear Learner\", \"Host\": \"algo-1\", \"Operation\": \"training\", \"epoch\": 4, \"model\": 22}, \"Metrics\": {\"train_binary_classification_cross_entropy_objective\": {\"sum\": 0.6044252522786459, \"count\": 1, \"min\": 0.6044252522786459, \"max\": 0.6044252522786459}}}\u001b[0m\n",
      "\u001b[34m#metrics {\"StartTime\": 1651017108.0968757, \"EndTime\": 1651017108.0968926, \"Dimensions\": {\"Algorithm\": \"Linear Learner\", \"Host\": \"algo-1\", \"Operation\": \"training\", \"epoch\": 4, \"model\": 23}, \"Metrics\": {\"train_binary_classification_cross_entropy_objective\": {\"sum\": 0.6458948008219401, \"count\": 1, \"min\": 0.6458948008219401, \"max\": 0.6458948008219401}}}\u001b[0m\n",
      "\u001b[34m#metrics {\"StartTime\": 1651017108.0969458, \"EndTime\": 1651017108.0969818, \"Dimensions\": {\"Algorithm\": \"Linear Learner\", \"Host\": \"algo-1\", \"Operation\": \"training\", \"epoch\": 4, \"model\": 24}, \"Metrics\": {\"train_binary_classification_cross_entropy_objective\": {\"sum\": 0.6863867060343425, \"count\": 1, \"min\": 0.6863867060343425, \"max\": 0.6863867060343425}}}\u001b[0m\n",
      "\u001b[34m#metrics {\"StartTime\": 1651017108.0970364, \"EndTime\": 1651017108.0970519, \"Dimensions\": {\"Algorithm\": \"Linear Learner\", \"Host\": \"algo-1\", \"Operation\": \"training\", \"epoch\": 4, \"model\": 25}, \"Metrics\": {\"train_binary_classification_cross_entropy_objective\": {\"sum\": 0.6890514755249023, \"count\": 1, \"min\": 0.6890514755249023, \"max\": 0.6890514755249023}}}\u001b[0m\n",
      "\u001b[34m#metrics {\"StartTime\": 1651017108.0971193, \"EndTime\": 1651017108.097137, \"Dimensions\": {\"Algorithm\": \"Linear Learner\", \"Host\": \"algo-1\", \"Operation\": \"training\", \"epoch\": 4, \"model\": 26}, \"Metrics\": {\"train_binary_classification_cross_entropy_objective\": {\"sum\": 0.6923810704549154, \"count\": 1, \"min\": 0.6923810704549154, \"max\": 0.6923810704549154}}}\u001b[0m\n",
      "\u001b[34m#metrics {\"StartTime\": 1651017108.0971868, \"EndTime\": 1651017108.0972009, \"Dimensions\": {\"Algorithm\": \"Linear Learner\", \"Host\": \"algo-1\", \"Operation\": \"training\", \"epoch\": 4, \"model\": 27}, \"Metrics\": {\"train_binary_classification_cross_entropy_objective\": {\"sum\": 0.6793195343017578, \"count\": 1, \"min\": 0.6793195343017578, \"max\": 0.6793195343017578}}}\u001b[0m\n",
      "\u001b[34m#metrics {\"StartTime\": 1651017108.097245, \"EndTime\": 1651017108.0972576, \"Dimensions\": {\"Algorithm\": \"Linear Learner\", \"Host\": \"algo-1\", \"Operation\": \"training\", \"epoch\": 4, \"model\": 28}, \"Metrics\": {\"train_binary_classification_cross_entropy_objective\": {\"sum\": 0.7615887832641601, \"count\": 1, \"min\": 0.7615887832641601, \"max\": 0.7615887832641601}}}\u001b[0m\n",
      "\u001b[34m#metrics {\"StartTime\": 1651017108.0972998, \"EndTime\": 1651017108.097313, \"Dimensions\": {\"Algorithm\": \"Linear Learner\", \"Host\": \"algo-1\", \"Operation\": \"training\", \"epoch\": 4, \"model\": 29}, \"Metrics\": {\"train_binary_classification_cross_entropy_objective\": {\"sum\": 0.7374829864501953, \"count\": 1, \"min\": 0.7374829864501953, \"max\": 0.7374829864501953}}}\u001b[0m\n",
      "\u001b[34m#metrics {\"StartTime\": 1651017108.0973558, \"EndTime\": 1651017108.097371, \"Dimensions\": {\"Algorithm\": \"Linear Learner\", \"Host\": \"algo-1\", \"Operation\": \"training\", \"epoch\": 4, \"model\": 30}, \"Metrics\": {\"train_binary_classification_cross_entropy_objective\": {\"sum\": 0.7324945322672526, \"count\": 1, \"min\": 0.7324945322672526, \"max\": 0.7324945322672526}}}\u001b[0m\n",
      "\u001b[34m#metrics {\"StartTime\": 1651017108.0974207, \"EndTime\": 1651017108.0974562, \"Dimensions\": {\"Algorithm\": \"Linear Learner\", \"Host\": \"algo-1\", \"Operation\": \"training\", \"epoch\": 4, \"model\": 31}, \"Metrics\": {\"train_binary_classification_cross_entropy_objective\": {\"sum\": 0.7450181070963542, \"count\": 1, \"min\": 0.7450181070963542, \"max\": 0.7450181070963542}}}\u001b[0m\n",
      "\u001b[34m[04/26/2022 23:51:48 INFO 140612709816128] #quality_metric: host=algo-1, epoch=4, train binary_classification_cross_entropy_objective <loss>=0.5772270329793294\u001b[0m\n",
      "\u001b[34m[04/26/2022 23:51:48 INFO 140612709816128] #early_stopping_criteria_metric: host=algo-1, epoch=4, criteria=binary_classification_cross_entropy_objective, value=0.36708286285400393\u001b[0m\n",
      "\u001b[34m[04/26/2022 23:51:48 INFO 140612709816128] Saving model for epoch: 4\u001b[0m\n",
      "\u001b[34m[04/26/2022 23:51:48 INFO 140612709816128] Saved checkpoint to \"/tmp/tmpcp7i84zw/mx-mod-0000.params\"\u001b[0m\n",
      "\u001b[34m[04/26/2022 23:51:48 INFO 140612709816128] #progress_metric: host=algo-1, completed 33.333333333333336 % of epochs\u001b[0m\n",
      "\u001b[34m#metrics {\"StartTime\": 1651017107.93904, \"EndTime\": 1651017108.1063857, \"Dimensions\": {\"Algorithm\": \"Linear Learner\", \"Host\": \"algo-1\", \"Operation\": \"training\", \"epoch\": 4, \"Meta\": \"training_data_iter\"}, \"Metrics\": {\"Total Records Seen\": {\"sum\": 1918.0, \"count\": 1, \"min\": 1918, \"max\": 1918}, \"Total Batches Seen\": {\"sum\": 25.0, \"count\": 1, \"min\": 25, \"max\": 25}, \"Max Records Seen Between Resets\": {\"sum\": 303.0, \"count\": 1, \"min\": 303, \"max\": 303}, \"Max Batches Seen Between Resets\": {\"sum\": 4.0, \"count\": 1, \"min\": 4, \"max\": 4}, \"Reset Count\": {\"sum\": 7.0, \"count\": 1, \"min\": 7, \"max\": 7}, \"Number of Records Since Last Reset\": {\"sum\": 303.0, \"count\": 1, \"min\": 303, \"max\": 303}, \"Number of Batches Since Last Reset\": {\"sum\": 4.0, \"count\": 1, \"min\": 4, \"max\": 4}}}\u001b[0m\n",
      "\u001b[34m[04/26/2022 23:51:48 INFO 140612709816128] #throughput_metric: host=algo-1, train throughput=1809.5912310853355 records/second\u001b[0m\n",
      "\u001b[34m[2022-04-26 23:51:48.260] [tensorio] [info] epoch_stats={\"data_pipeline\": \"/opt/ml/input/data/train\", \"epoch\": 14, \"duration\": 153, \"num_examples\": 4, \"num_bytes\": 29088}\u001b[0m\n",
      "\u001b[34m#metrics {\"StartTime\": 1651017108.2603204, \"EndTime\": 1651017108.2604282, \"Dimensions\": {\"Algorithm\": \"Linear Learner\", \"Host\": \"algo-1\", \"Operation\": \"training\", \"epoch\": 5, \"model\": 0}, \"Metrics\": {\"train_binary_classification_cross_entropy_objective\": {\"sum\": 0.5589961115519205, \"count\": 1, \"min\": 0.5589961115519205, \"max\": 0.5589961115519205}}}\u001b[0m\n",
      "\u001b[34m#metrics {\"StartTime\": 1651017108.2605424, \"EndTime\": 1651017108.260567, \"Dimensions\": {\"Algorithm\": \"Linear Learner\", \"Host\": \"algo-1\", \"Operation\": \"training\", \"epoch\": 5, \"model\": 1}, \"Metrics\": {\"train_binary_classification_cross_entropy_objective\": {\"sum\": 0.5804351170857748, \"count\": 1, \"min\": 0.5804351170857748, \"max\": 0.5804351170857748}}}\u001b[0m\n",
      "\u001b[34m#metrics {\"StartTime\": 1651017108.260629, \"EndTime\": 1651017108.2606483, \"Dimensions\": {\"Algorithm\": \"Linear Learner\", \"Host\": \"algo-1\", \"Operation\": \"training\", \"epoch\": 5, \"model\": 2}, \"Metrics\": {\"train_binary_classification_cross_entropy_objective\": {\"sum\": 0.5880360539754231, \"count\": 1, \"min\": 0.5880360539754231, \"max\": 0.5880360539754231}}}\u001b[0m\n",
      "\u001b[34m#metrics {\"StartTime\": 1651017108.2607055, \"EndTime\": 1651017108.260725, \"Dimensions\": {\"Algorithm\": \"Linear Learner\", \"Host\": \"algo-1\", \"Operation\": \"training\", \"epoch\": 5, \"model\": 3}, \"Metrics\": {\"train_binary_classification_cross_entropy_objective\": {\"sum\": 0.5970255406697591, \"count\": 1, \"min\": 0.5970255406697591, \"max\": 0.5970255406697591}}}\u001b[0m\n",
      "\u001b[34m#metrics {\"StartTime\": 1651017108.2607808, \"EndTime\": 1651017108.2607985, \"Dimensions\": {\"Algorithm\": \"Linear Learner\", \"Host\": \"algo-1\", \"Operation\": \"training\", \"epoch\": 5, \"model\": 4}, \"Metrics\": {\"train_binary_classification_cross_entropy_objective\": {\"sum\": 0.3795226033528646, \"count\": 1, \"min\": 0.3795226033528646, \"max\": 0.3795226033528646}}}\u001b[0m\n",
      "\u001b[34m#metrics {\"StartTime\": 1651017108.2608519, \"EndTime\": 1651017108.2608676, \"Dimensions\": {\"Algorithm\": \"Linear Learner\", \"Host\": \"algo-1\", \"Operation\": \"training\", \"epoch\": 5, \"model\": 5}, \"Metrics\": {\"train_binary_classification_cross_entropy_objective\": {\"sum\": 0.38235121409098305, \"count\": 1, \"min\": 0.38235121409098305, \"max\": 0.38235121409098305}}}\u001b[0m\n",
      "\u001b[34m#metrics {\"StartTime\": 1651017108.260915, \"EndTime\": 1651017108.2609386, \"Dimensions\": {\"Algorithm\": \"Linear Learner\", \"Host\": \"algo-1\", \"Operation\": \"training\", \"epoch\": 5, \"model\": 6}, \"Metrics\": {\"train_binary_classification_cross_entropy_objective\": {\"sum\": 0.3816290092468262, \"count\": 1, \"min\": 0.3816290092468262, \"max\": 0.3816290092468262}}}\u001b[0m\n",
      "\u001b[34m#metrics {\"StartTime\": 1651017108.2609847, \"EndTime\": 1651017108.2609978, \"Dimensions\": {\"Algorithm\": \"Linear Learner\", \"Host\": \"algo-1\", \"Operation\": \"training\", \"epoch\": 5, \"model\": 7}, \"Metrics\": {\"train_binary_classification_cross_entropy_objective\": {\"sum\": 0.38272628784179685, \"count\": 1, \"min\": 0.38272628784179685, \"max\": 0.38272628784179685}}}\u001b[0m\n",
      "\u001b[34m#metrics {\"StartTime\": 1651017108.2610416, \"EndTime\": 1651017108.2610555, \"Dimensions\": {\"Algorithm\": \"Linear Learner\", \"Host\": \"algo-1\", \"Operation\": \"training\", \"epoch\": 5, \"model\": 8}, \"Metrics\": {\"train_binary_classification_cross_entropy_objective\": {\"sum\": 0.6127690378824869, \"count\": 1, \"min\": 0.6127690378824869, \"max\": 0.6127690378824869}}}\u001b[0m\n",
      "\u001b[34m#metrics {\"StartTime\": 1651017108.261106, \"EndTime\": 1651017108.2611232, \"Dimensions\": {\"Algorithm\": \"Linear Learner\", \"Host\": \"algo-1\", \"Operation\": \"training\", \"epoch\": 5, \"model\": 9}, \"Metrics\": {\"train_binary_classification_cross_entropy_objective\": {\"sum\": 0.5904385630289714, \"count\": 1, \"min\": 0.5904385630289714, \"max\": 0.5904385630289714}}}\u001b[0m\n",
      "\u001b[34m#metrics {\"StartTime\": 1651017108.261173, \"EndTime\": 1651017108.2611897, \"Dimensions\": {\"Algorithm\": \"Linear Learner\", \"Host\": \"algo-1\", \"Operation\": \"training\", \"epoch\": 5, \"model\": 10}, \"Metrics\": {\"train_binary_classification_cross_entropy_objective\": {\"sum\": 0.5914980951944987, \"count\": 1, \"min\": 0.5914980951944987, \"max\": 0.5914980951944987}}}\u001b[0m\n",
      "\u001b[34m#metrics {\"StartTime\": 1651017108.2612398, \"EndTime\": 1651017108.2612562, \"Dimensions\": {\"Algorithm\": \"Linear Learner\", \"Host\": \"algo-1\", \"Operation\": \"training\", \"epoch\": 5, \"model\": 11}, \"Metrics\": {\"train_binary_classification_cross_entropy_objective\": {\"sum\": 0.6090148035685221, \"count\": 1, \"min\": 0.6090148035685221, \"max\": 0.6090148035685221}}}\u001b[0m\n",
      "\u001b[34m#metrics {\"StartTime\": 1651017108.2613077, \"EndTime\": 1651017108.261325, \"Dimensions\": {\"Algorithm\": \"Linear Learner\", \"Host\": \"algo-1\", \"Operation\": \"training\", \"epoch\": 5, \"model\": 12}, \"Metrics\": {\"train_binary_classification_cross_entropy_objective\": {\"sum\": 0.3771144231160482, \"count\": 1, \"min\": 0.3771144231160482, \"max\": 0.3771144231160482}}}\u001b[0m\n",
      "\u001b[34m#metrics {\"StartTime\": 1651017108.2613757, \"EndTime\": 1651017108.261393, \"Dimensions\": {\"Algorithm\": \"Linear Learner\", \"Host\": \"algo-1\", \"Operation\": \"training\", \"epoch\": 5, \"model\": 13}, \"Metrics\": {\"train_binary_classification_cross_entropy_objective\": {\"sum\": 0.3752968025207519, \"count\": 1, \"min\": 0.3752968025207519, \"max\": 0.3752968025207519}}}\u001b[0m\n",
      "\u001b[34m#metrics {\"StartTime\": 1651017108.2614446, \"EndTime\": 1651017108.2614617, \"Dimensions\": {\"Algorithm\": \"Linear Learner\", \"Host\": \"algo-1\", \"Operation\": \"training\", \"epoch\": 5, \"model\": 14}, \"Metrics\": {\"train_binary_classification_cross_entropy_objective\": {\"sum\": 0.3765151023864746, \"count\": 1, \"min\": 0.3765151023864746, \"max\": 0.3765151023864746}}}\u001b[0m\n",
      "\u001b[34m#metrics {\"StartTime\": 1651017108.2615132, \"EndTime\": 1651017108.261529, \"Dimensions\": {\"Algorithm\": \"Linear Learner\", \"Host\": \"algo-1\", \"Operation\": \"training\", \"epoch\": 5, \"model\": 15}, \"Metrics\": {\"train_binary_classification_cross_entropy_objective\": {\"sum\": 0.37873743693033857, \"count\": 1, \"min\": 0.37873743693033857, \"max\": 0.37873743693033857}}}\u001b[0m\n",
      "\u001b[34m#metrics {\"StartTime\": 1651017108.261574, \"EndTime\": 1651017108.2615898, \"Dimensions\": {\"Algorithm\": \"Linear Learner\", \"Host\": \"algo-1\", \"Operation\": \"training\", \"epoch\": 5, \"model\": 16}, \"Metrics\": {\"train_binary_classification_cross_entropy_objective\": {\"sum\": 0.5855858739217122, \"count\": 1, \"min\": 0.5855858739217122, \"max\": 0.5855858739217122}}}\u001b[0m\n",
      "\u001b[34m#metrics {\"StartTime\": 1651017108.2616382, \"EndTime\": 1651017108.261654, \"Dimensions\": {\"Algorithm\": \"Linear Learner\", \"Host\": \"algo-1\", \"Operation\": \"training\", \"epoch\": 5, \"model\": 17}, \"Metrics\": {\"train_binary_classification_cross_entropy_objective\": {\"sum\": 0.5967004648844401, \"count\": 1, \"min\": 0.5967004648844401, \"max\": 0.5967004648844401}}}\u001b[0m\n",
      "\u001b[34m#metrics {\"StartTime\": 1651017108.261707, \"EndTime\": 1651017108.261724, \"Dimensions\": {\"Algorithm\": \"Linear Learner\", \"Host\": \"algo-1\", \"Operation\": \"training\", \"epoch\": 5, \"model\": 18}, \"Metrics\": {\"train_binary_classification_cross_entropy_objective\": {\"sum\": 0.5572598775227865, \"count\": 1, \"min\": 0.5572598775227865, \"max\": 0.5572598775227865}}}\u001b[0m\n",
      "\u001b[34m#metrics {\"StartTime\": 1651017108.2617745, \"EndTime\": 1651017108.2617908, \"Dimensions\": {\"Algorithm\": \"Linear Learner\", \"Host\": \"algo-1\", \"Operation\": \"training\", \"epoch\": 5, \"model\": 19}, \"Metrics\": {\"train_binary_classification_cross_entropy_objective\": {\"sum\": 0.5714790344238281, \"count\": 1, \"min\": 0.5714790344238281, \"max\": 0.5714790344238281}}}\u001b[0m\n",
      "\u001b[34m#metrics {\"StartTime\": 1651017108.2618377, \"EndTime\": 1651017108.261853, \"Dimensions\": {\"Algorithm\": \"Linear Learner\", \"Host\": \"algo-1\", \"Operation\": \"training\", \"epoch\": 5, \"model\": 20}, \"Metrics\": {\"train_binary_classification_cross_entropy_objective\": {\"sum\": 0.5490658823649088, \"count\": 1, \"min\": 0.5490658823649088, \"max\": 0.5490658823649088}}}\u001b[0m\n",
      "\u001b[34m#metrics {\"StartTime\": 1651017108.2619004, \"EndTime\": 1651017108.2619154, \"Dimensions\": {\"Algorithm\": \"Linear Learner\", \"Host\": \"algo-1\", \"Operation\": \"training\", \"epoch\": 5, \"model\": 21}, \"Metrics\": {\"train_binary_classification_cross_entropy_objective\": {\"sum\": 0.5505253346761068, \"count\": 1, \"min\": 0.5505253346761068, \"max\": 0.5505253346761068}}}\u001b[0m\n",
      "\u001b[34m#metrics {\"StartTime\": 1651017108.261961, \"EndTime\": 1651017108.2619755, \"Dimensions\": {\"Algorithm\": \"Linear Learner\", \"Host\": \"algo-1\", \"Operation\": \"training\", \"epoch\": 5, \"model\": 22}, \"Metrics\": {\"train_binary_classification_cross_entropy_objective\": {\"sum\": 0.5531153106689453, \"count\": 1, \"min\": 0.5531153106689453, \"max\": 0.5531153106689453}}}\u001b[0m\n",
      "\u001b[34m#metrics {\"StartTime\": 1651017108.26202, \"EndTime\": 1651017108.2620335, \"Dimensions\": {\"Algorithm\": \"Linear Learner\", \"Host\": \"algo-1\", \"Operation\": \"training\", \"epoch\": 5, \"model\": 23}, \"Metrics\": {\"train_binary_classification_cross_entropy_objective\": {\"sum\": 0.572873789469401, \"count\": 1, \"min\": 0.572873789469401, \"max\": 0.572873789469401}}}\u001b[0m\n",
      "\u001b[34m#metrics {\"StartTime\": 1651017108.2620783, \"EndTime\": 1651017108.2620919, \"Dimensions\": {\"Algorithm\": \"Linear Learner\", \"Host\": \"algo-1\", \"Operation\": \"training\", \"epoch\": 5, \"model\": 24}, \"Metrics\": {\"train_binary_classification_cross_entropy_objective\": {\"sum\": 0.6862901814778646, \"count\": 1, \"min\": 0.6862901814778646, \"max\": 0.6862901814778646}}}\u001b[0m\n",
      "\u001b[34m#metrics {\"StartTime\": 1651017108.2621374, \"EndTime\": 1651017108.2621524, \"Dimensions\": {\"Algorithm\": \"Linear Learner\", \"Host\": \"algo-1\", \"Operation\": \"training\", \"epoch\": 5, \"model\": 25}, \"Metrics\": {\"train_binary_classification_cross_entropy_objective\": {\"sum\": 0.6889699300130209, \"count\": 1, \"min\": 0.6889699300130209, \"max\": 0.6889699300130209}}}\u001b[0m\n",
      "\u001b[34m#metrics {\"StartTime\": 1651017108.2622, \"EndTime\": 1651017108.2622142, \"Dimensions\": {\"Algorithm\": \"Linear Learner\", \"Host\": \"algo-1\", \"Operation\": \"training\", \"epoch\": 5, \"model\": 26}, \"Metrics\": {\"train_binary_classification_cross_entropy_objective\": {\"sum\": 0.6924641418457032, \"count\": 1, \"min\": 0.6924641418457032, \"max\": 0.6924641418457032}}}\u001b[0m\n",
      "\u001b[34m#metrics {\"StartTime\": 1651017108.2622628, \"EndTime\": 1651017108.2622788, \"Dimensions\": {\"Algorithm\": \"Linear Learner\", \"Host\": \"algo-1\", \"Operation\": \"training\", \"epoch\": 5, \"model\": 27}, \"Metrics\": {\"train_binary_classification_cross_entropy_objective\": {\"sum\": 0.6802410634358724, \"count\": 1, \"min\": 0.6802410634358724, \"max\": 0.6802410634358724}}}\u001b[0m\n",
      "\u001b[34m#metrics {\"StartTime\": 1651017108.2623277, \"EndTime\": 1651017108.2623417, \"Dimensions\": {\"Algorithm\": \"Linear Learner\", \"Host\": \"algo-1\", \"Operation\": \"training\", \"epoch\": 5, \"model\": 28}, \"Metrics\": {\"train_binary_classification_cross_entropy_objective\": {\"sum\": 0.7626080576578776, \"count\": 1, \"min\": 0.7626080576578776, \"max\": 0.7626080576578776}}}\u001b[0m\n",
      "\u001b[34m#metrics {\"StartTime\": 1651017108.262389, \"EndTime\": 1651017108.2624044, \"Dimensions\": {\"Algorithm\": \"Linear Learner\", \"Host\": \"algo-1\", \"Operation\": \"training\", \"epoch\": 5, \"model\": 29}, \"Metrics\": {\"train_binary_classification_cross_entropy_objective\": {\"sum\": 0.7389017232259114, \"count\": 1, \"min\": 0.7389017232259114, \"max\": 0.7389017232259114}}}\u001b[0m\n",
      "\u001b[34m#metrics {\"StartTime\": 1651017108.262451, \"EndTime\": 1651017108.2624652, \"Dimensions\": {\"Algorithm\": \"Linear Learner\", \"Host\": \"algo-1\", \"Operation\": \"training\", \"epoch\": 5, \"model\": 30}, \"Metrics\": {\"train_binary_classification_cross_entropy_objective\": {\"sum\": 0.7423662567138671, \"count\": 1, \"min\": 0.7423662567138671, \"max\": 0.7423662567138671}}}\u001b[0m\n",
      "\u001b[34m#metrics {\"StartTime\": 1651017108.262521, \"EndTime\": 1651017108.2625341, \"Dimensions\": {\"Algorithm\": \"Linear Learner\", \"Host\": \"algo-1\", \"Operation\": \"training\", \"epoch\": 5, \"model\": 31}, \"Metrics\": {\"train_binary_classification_cross_entropy_objective\": {\"sum\": 0.7297793833414713, \"count\": 1, \"min\": 0.7297793833414713, \"max\": 0.7297793833414713}}}\u001b[0m\n",
      "\u001b[34m[04/26/2022 23:51:48 INFO 140612709816128] #quality_metric: host=algo-1, epoch=5, train binary_classification_cross_entropy_objective <loss>=0.5589961115519205\u001b[0m\n",
      "\u001b[34m[04/26/2022 23:51:48 INFO 140612709816128] #early_stopping_criteria_metric: host=algo-1, epoch=5, criteria=binary_classification_cross_entropy_objective, value=0.3752968025207519\u001b[0m\n",
      "\u001b[34m[04/26/2022 23:51:48 INFO 140612709816128] Saving model for epoch: 5\u001b[0m\n",
      "\u001b[34m[04/26/2022 23:51:48 INFO 140612709816128] Saved checkpoint to \"/tmp/tmpvxkaqpv9/mx-mod-0000.params\"\u001b[0m\n",
      "\u001b[34m[04/26/2022 23:51:48 INFO 140612709816128] #progress_metric: host=algo-1, completed 40.0 % of epochs\u001b[0m\n",
      "\u001b[34m#metrics {\"StartTime\": 1651017108.1065695, \"EndTime\": 1651017108.274335, \"Dimensions\": {\"Algorithm\": \"Linear Learner\", \"Host\": \"algo-1\", \"Operation\": \"training\", \"epoch\": 5, \"Meta\": \"training_data_iter\"}, \"Metrics\": {\"Total Records Seen\": {\"sum\": 2221.0, \"count\": 1, \"min\": 2221, \"max\": 2221}, \"Total Batches Seen\": {\"sum\": 29.0, \"count\": 1, \"min\": 29, \"max\": 29}, \"Max Records Seen Between Resets\": {\"sum\": 303.0, \"count\": 1, \"min\": 303, \"max\": 303}, \"Max Batches Seen Between Resets\": {\"sum\": 4.0, \"count\": 1, \"min\": 4, \"max\": 4}, \"Reset Count\": {\"sum\": 8.0, \"count\": 1, \"min\": 8, \"max\": 8}, \"Number of Records Since Last Reset\": {\"sum\": 303.0, \"count\": 1, \"min\": 303, \"max\": 303}, \"Number of Batches Since Last Reset\": {\"sum\": 4.0, \"count\": 1, \"min\": 4, \"max\": 4}}}\u001b[0m\n",
      "\u001b[34m[04/26/2022 23:51:48 INFO 140612709816128] #throughput_metric: host=algo-1, train throughput=1804.8599880705542 records/second\u001b[0m\n",
      "\u001b[34m[2022-04-26 23:51:48.418] [tensorio] [info] epoch_stats={\"data_pipeline\": \"/opt/ml/input/data/train\", \"epoch\": 16, \"duration\": 143, \"num_examples\": 4, \"num_bytes\": 29088}\u001b[0m\n",
      "\u001b[34m#metrics {\"StartTime\": 1651017108.418534, \"EndTime\": 1651017108.4186413, \"Dimensions\": {\"Algorithm\": \"Linear Learner\", \"Host\": \"algo-1\", \"Operation\": \"training\", \"epoch\": 6, \"model\": 0}, \"Metrics\": {\"train_binary_classification_cross_entropy_objective\": {\"sum\": 0.5424607976277669, \"count\": 1, \"min\": 0.5424607976277669, \"max\": 0.5424607976277669}}}\u001b[0m\n",
      "\u001b[34m#metrics {\"StartTime\": 1651017108.4188173, \"EndTime\": 1651017108.418843, \"Dimensions\": {\"Algorithm\": \"Linear Learner\", \"Host\": \"algo-1\", \"Operation\": \"training\", \"epoch\": 6, \"model\": 1}, \"Metrics\": {\"train_binary_classification_cross_entropy_objective\": {\"sum\": 0.5628421529134114, \"count\": 1, \"min\": 0.5628421529134114, \"max\": 0.5628421529134114}}}\u001b[0m\n",
      "\u001b[34m#metrics {\"StartTime\": 1651017108.4189897, \"EndTime\": 1651017108.4190948, \"Dimensions\": {\"Algorithm\": \"Linear Learner\", \"Host\": \"algo-1\", \"Operation\": \"training\", \"epoch\": 6, \"model\": 2}, \"Metrics\": {\"train_binary_classification_cross_entropy_objective\": {\"sum\": 0.5693868637084961, \"count\": 1, \"min\": 0.5693868637084961, \"max\": 0.5693868637084961}}}\u001b[0m\n",
      "\u001b[34m#metrics {\"StartTime\": 1651017108.4191744, \"EndTime\": 1651017108.4191942, \"Dimensions\": {\"Algorithm\": \"Linear Learner\", \"Host\": \"algo-1\", \"Operation\": \"training\", \"epoch\": 6, \"model\": 3}, \"Metrics\": {\"train_binary_classification_cross_entropy_objective\": {\"sum\": 0.5786390177408854, \"count\": 1, \"min\": 0.5786390177408854, \"max\": 0.5786390177408854}}}\u001b[0m\n",
      "\u001b[34m#metrics {\"StartTime\": 1651017108.4194221, \"EndTime\": 1651017108.4194477, \"Dimensions\": {\"Algorithm\": \"Linear Learner\", \"Host\": \"algo-1\", \"Operation\": \"training\", \"epoch\": 6, \"model\": 4}, \"Metrics\": {\"train_binary_classification_cross_entropy_objective\": {\"sum\": 0.3784409459431966, \"count\": 1, \"min\": 0.3784409459431966, \"max\": 0.3784409459431966}}}\u001b[0m\n",
      "\u001b[34m#metrics {\"StartTime\": 1651017108.4196033, \"EndTime\": 1651017108.4196258, \"Dimensions\": {\"Algorithm\": \"Linear Learner\", \"Host\": \"algo-1\", \"Operation\": \"training\", \"epoch\": 6, \"model\": 5}, \"Metrics\": {\"train_binary_classification_cross_entropy_objective\": {\"sum\": 0.38112188975016276, \"count\": 1, \"min\": 0.38112188975016276, \"max\": 0.38112188975016276}}}\u001b[0m\n",
      "\u001b[34m#metrics {\"StartTime\": 1651017108.4196844, \"EndTime\": 1651017108.4197903, \"Dimensions\": {\"Algorithm\": \"Linear Learner\", \"Host\": \"algo-1\", \"Operation\": \"training\", \"epoch\": 6, \"model\": 6}, \"Metrics\": {\"train_binary_classification_cross_entropy_objective\": {\"sum\": 0.38027422587076826, \"count\": 1, \"min\": 0.38027422587076826, \"max\": 0.38027422587076826}}}\u001b[0m\n",
      "\u001b[34m#metrics {\"StartTime\": 1651017108.419946, \"EndTime\": 1651017108.419968, \"Dimensions\": {\"Algorithm\": \"Linear Learner\", \"Host\": \"algo-1\", \"Operation\": \"training\", \"epoch\": 6, \"model\": 7}, \"Metrics\": {\"train_binary_classification_cross_entropy_objective\": {\"sum\": 0.38097511291503905, \"count\": 1, \"min\": 0.38097511291503905, \"max\": 0.38097511291503905}}}\u001b[0m\n",
      "\u001b[34m#metrics {\"StartTime\": 1651017108.4200246, \"EndTime\": 1651017108.420043, \"Dimensions\": {\"Algorithm\": \"Linear Learner\", \"Host\": \"algo-1\", \"Operation\": \"training\", \"epoch\": 6, \"model\": 8}, \"Metrics\": {\"train_binary_classification_cross_entropy_objective\": {\"sum\": 0.593296407063802, \"count\": 1, \"min\": 0.593296407063802, \"max\": 0.593296407063802}}}\u001b[0m\n",
      "\u001b[34m#metrics {\"StartTime\": 1651017108.4200988, \"EndTime\": 1651017108.4201171, \"Dimensions\": {\"Algorithm\": \"Linear Learner\", \"Host\": \"algo-1\", \"Operation\": \"training\", \"epoch\": 6, \"model\": 9}, \"Metrics\": {\"train_binary_classification_cross_entropy_objective\": {\"sum\": 0.5718323008219401, \"count\": 1, \"min\": 0.5718323008219401, \"max\": 0.5718323008219401}}}\u001b[0m\n",
      "\u001b[34m#metrics {\"StartTime\": 1651017108.4201689, \"EndTime\": 1651017108.420187, \"Dimensions\": {\"Algorithm\": \"Linear Learner\", \"Host\": \"algo-1\", \"Operation\": \"training\", \"epoch\": 6, \"model\": 10}, \"Metrics\": {\"train_binary_classification_cross_entropy_objective\": {\"sum\": 0.5735919952392579, \"count\": 1, \"min\": 0.5735919952392579, \"max\": 0.5735919952392579}}}\u001b[0m\n",
      "\u001b[34m#metrics {\"StartTime\": 1651017108.4202383, \"EndTime\": 1651017108.4202578, \"Dimensions\": {\"Algorithm\": \"Linear Learner\", \"Host\": \"algo-1\", \"Operation\": \"training\", \"epoch\": 6, \"model\": 11}, \"Metrics\": {\"train_binary_classification_cross_entropy_objective\": {\"sum\": 0.5895403671264648, \"count\": 1, \"min\": 0.5895403671264648, \"max\": 0.5895403671264648}}}\u001b[0m\n",
      "\u001b[34m#metrics {\"StartTime\": 1651017108.4203134, \"EndTime\": 1651017108.4203312, \"Dimensions\": {\"Algorithm\": \"Linear Learner\", \"Host\": \"algo-1\", \"Operation\": \"training\", \"epoch\": 6, \"model\": 12}, \"Metrics\": {\"train_binary_classification_cross_entropy_objective\": {\"sum\": 0.37536376953125, \"count\": 1, \"min\": 0.37536376953125, \"max\": 0.37536376953125}}}\u001b[0m\n",
      "\u001b[34m#metrics {\"StartTime\": 1651017108.4203827, \"EndTime\": 1651017108.4203994, \"Dimensions\": {\"Algorithm\": \"Linear Learner\", \"Host\": \"algo-1\", \"Operation\": \"training\", \"epoch\": 6, \"model\": 13}, \"Metrics\": {\"train_binary_classification_cross_entropy_objective\": {\"sum\": 0.37419418334960936, \"count\": 1, \"min\": 0.37419418334960936, \"max\": 0.37419418334960936}}}\u001b[0m\n",
      "\u001b[34m#metrics {\"StartTime\": 1651017108.4204519, \"EndTime\": 1651017108.4204686, \"Dimensions\": {\"Algorithm\": \"Linear Learner\", \"Host\": \"algo-1\", \"Operation\": \"training\", \"epoch\": 6, \"model\": 14}, \"Metrics\": {\"train_binary_classification_cross_entropy_objective\": {\"sum\": 0.37512049357096355, \"count\": 1, \"min\": 0.37512049357096355, \"max\": 0.37512049357096355}}}\u001b[0m\n",
      "\u001b[34m#metrics {\"StartTime\": 1651017108.4205213, \"EndTime\": 1651017108.4205377, \"Dimensions\": {\"Algorithm\": \"Linear Learner\", \"Host\": \"algo-1\", \"Operation\": \"training\", \"epoch\": 6, \"model\": 15}, \"Metrics\": {\"train_binary_classification_cross_entropy_objective\": {\"sum\": 0.3757580312093099, \"count\": 1, \"min\": 0.3757580312093099, \"max\": 0.3757580312093099}}}\u001b[0m\n",
      "\u001b[34m#metrics {\"StartTime\": 1651017108.4205902, \"EndTime\": 1651017108.420607, \"Dimensions\": {\"Algorithm\": \"Linear Learner\", \"Host\": \"algo-1\", \"Operation\": \"training\", \"epoch\": 6, \"model\": 16}, \"Metrics\": {\"train_binary_classification_cross_entropy_objective\": {\"sum\": 0.5718240865071614, \"count\": 1, \"min\": 0.5718240865071614, \"max\": 0.5718240865071614}}}\u001b[0m\n",
      "\u001b[34m#metrics {\"StartTime\": 1651017108.4206579, \"EndTime\": 1651017108.4206753, \"Dimensions\": {\"Algorithm\": \"Linear Learner\", \"Host\": \"algo-1\", \"Operation\": \"training\", \"epoch\": 6, \"model\": 17}, \"Metrics\": {\"train_binary_classification_cross_entropy_objective\": {\"sum\": 0.5807617696126303, \"count\": 1, \"min\": 0.5807617696126303, \"max\": 0.5807617696126303}}}\u001b[0m\n",
      "\u001b[34m#metrics {\"StartTime\": 1651017108.420726, \"EndTime\": 1651017108.4207437, \"Dimensions\": {\"Algorithm\": \"Linear Learner\", \"Host\": \"algo-1\", \"Operation\": \"training\", \"epoch\": 6, \"model\": 18}, \"Metrics\": {\"train_binary_classification_cross_entropy_objective\": {\"sum\": 0.546315434773763, \"count\": 1, \"min\": 0.546315434773763, \"max\": 0.546315434773763}}}\u001b[0m\n",
      "\u001b[34m#metrics {\"StartTime\": 1651017108.4207933, \"EndTime\": 1651017108.4208107, \"Dimensions\": {\"Algorithm\": \"Linear Learner\", \"Host\": \"algo-1\", \"Operation\": \"training\", \"epoch\": 6, \"model\": 19}, \"Metrics\": {\"train_binary_classification_cross_entropy_objective\": {\"sum\": 0.5597548039754232, \"count\": 1, \"min\": 0.5597548039754232, \"max\": 0.5597548039754232}}}\u001b[0m\n",
      "\u001b[34m#metrics {\"StartTime\": 1651017108.4208624, \"EndTime\": 1651017108.4208794, \"Dimensions\": {\"Algorithm\": \"Linear Learner\", \"Host\": \"algo-1\", \"Operation\": \"training\", \"epoch\": 6, \"model\": 20}, \"Metrics\": {\"train_binary_classification_cross_entropy_objective\": {\"sum\": 0.5502442677815755, \"count\": 1, \"min\": 0.5502442677815755, \"max\": 0.5502442677815755}}}\u001b[0m\n",
      "\u001b[34m#metrics {\"StartTime\": 1651017108.4209304, \"EndTime\": 1651017108.4209478, \"Dimensions\": {\"Algorithm\": \"Linear Learner\", \"Host\": \"algo-1\", \"Operation\": \"training\", \"epoch\": 6, \"model\": 21}, \"Metrics\": {\"train_binary_classification_cross_entropy_objective\": {\"sum\": 0.5471936670939127, \"count\": 1, \"min\": 0.5471936670939127, \"max\": 0.5471936670939127}}}\u001b[0m\n",
      "\u001b[34m#metrics {\"StartTime\": 1651017108.4209986, \"EndTime\": 1651017108.4210148, \"Dimensions\": {\"Algorithm\": \"Linear Learner\", \"Host\": \"algo-1\", \"Operation\": \"training\", \"epoch\": 6, \"model\": 22}, \"Metrics\": {\"train_binary_classification_cross_entropy_objective\": {\"sum\": 0.543574701944987, \"count\": 1, \"min\": 0.543574701944987, \"max\": 0.543574701944987}}}\u001b[0m\n",
      "\u001b[34m#metrics {\"StartTime\": 1651017108.421066, \"EndTime\": 1651017108.4210823, \"Dimensions\": {\"Algorithm\": \"Linear Learner\", \"Host\": \"algo-1\", \"Operation\": \"training\", \"epoch\": 6, \"model\": 23}, \"Metrics\": {\"train_binary_classification_cross_entropy_objective\": {\"sum\": 0.5256737645467122, \"count\": 1, \"min\": 0.5256737645467122, \"max\": 0.5256737645467122}}}\u001b[0m\n",
      "\u001b[34m#metrics {\"StartTime\": 1651017108.4211357, \"EndTime\": 1651017108.421153, \"Dimensions\": {\"Algorithm\": \"Linear Learner\", \"Host\": \"algo-1\", \"Operation\": \"training\", \"epoch\": 6, \"model\": 24}, \"Metrics\": {\"train_binary_classification_cross_entropy_objective\": {\"sum\": 0.6861975860595703, \"count\": 1, \"min\": 0.6861975860595703, \"max\": 0.6861975860595703}}}\u001b[0m\n",
      "\u001b[34m#metrics {\"StartTime\": 1651017108.4212027, \"EndTime\": 1651017108.4212196, \"Dimensions\": {\"Algorithm\": \"Linear Learner\", \"Host\": \"algo-1\", \"Operation\": \"training\", \"epoch\": 6, \"model\": 25}, \"Metrics\": {\"train_binary_classification_cross_entropy_objective\": {\"sum\": 0.6886197916666666, \"count\": 1, \"min\": 0.6886197916666666, \"max\": 0.6886197916666666}}}\u001b[0m\n",
      "\u001b[34m#metrics {\"StartTime\": 1651017108.421272, \"EndTime\": 1651017108.4212887, \"Dimensions\": {\"Algorithm\": \"Linear Learner\", \"Host\": \"algo-1\", \"Operation\": \"training\", \"epoch\": 6, \"model\": 26}, \"Metrics\": {\"train_binary_classification_cross_entropy_objective\": {\"sum\": 0.6917652384440104, \"count\": 1, \"min\": 0.6917652384440104, \"max\": 0.6917652384440104}}}\u001b[0m\n",
      "\u001b[34m#metrics {\"StartTime\": 1651017108.4213424, \"EndTime\": 1651017108.42136, \"Dimensions\": {\"Algorithm\": \"Linear Learner\", \"Host\": \"algo-1\", \"Operation\": \"training\", \"epoch\": 6, \"model\": 27}, \"Metrics\": {\"train_binary_classification_cross_entropy_objective\": {\"sum\": 0.6841443379720052, \"count\": 1, \"min\": 0.6841443379720052, \"max\": 0.6841443379720052}}}\u001b[0m\n",
      "\u001b[34m#metrics {\"StartTime\": 1651017108.42141, \"EndTime\": 1651017108.4214272, \"Dimensions\": {\"Algorithm\": \"Linear Learner\", \"Host\": \"algo-1\", \"Operation\": \"training\", \"epoch\": 6, \"model\": 28}, \"Metrics\": {\"train_binary_classification_cross_entropy_objective\": {\"sum\": 0.7164471944173177, \"count\": 1, \"min\": 0.7164471944173177, \"max\": 0.7164471944173177}}}\u001b[0m\n",
      "\u001b[34m#metrics {\"StartTime\": 1651017108.4214776, \"EndTime\": 1651017108.4214933, \"Dimensions\": {\"Algorithm\": \"Linear Learner\", \"Host\": \"algo-1\", \"Operation\": \"training\", \"epoch\": 6, \"model\": 29}, \"Metrics\": {\"train_binary_classification_cross_entropy_objective\": {\"sum\": 0.7454929351806641, \"count\": 1, \"min\": 0.7454929351806641, \"max\": 0.7454929351806641}}}\u001b[0m\n",
      "\u001b[34m#metrics {\"StartTime\": 1651017108.421548, \"EndTime\": 1651017108.4215643, \"Dimensions\": {\"Algorithm\": \"Linear Learner\", \"Host\": \"algo-1\", \"Operation\": \"training\", \"epoch\": 6, \"model\": 30}, \"Metrics\": {\"train_binary_classification_cross_entropy_objective\": {\"sum\": 0.7454262542724609, \"count\": 1, \"min\": 0.7454262542724609, \"max\": 0.7454262542724609}}}\u001b[0m\n",
      "\u001b[34m#metrics {\"StartTime\": 1651017108.4216166, \"EndTime\": 1651017108.4216347, \"Dimensions\": {\"Algorithm\": \"Linear Learner\", \"Host\": \"algo-1\", \"Operation\": \"training\", \"epoch\": 6, \"model\": 31}, \"Metrics\": {\"train_binary_classification_cross_entropy_objective\": {\"sum\": 0.7441590881347656, \"count\": 1, \"min\": 0.7441590881347656, \"max\": 0.7441590881347656}}}\u001b[0m\n",
      "\u001b[34m[04/26/2022 23:51:48 INFO 140612709816128] #quality_metric: host=algo-1, epoch=6, train binary_classification_cross_entropy_objective <loss>=0.5424607976277669\u001b[0m\n",
      "\u001b[34m[04/26/2022 23:51:48 INFO 140612709816128] #early_stopping_criteria_metric: host=algo-1, epoch=6, criteria=binary_classification_cross_entropy_objective, value=0.37419418334960936\u001b[0m\n",
      "\u001b[34m[04/26/2022 23:51:48 INFO 140612709816128] Saving model for epoch: 6\u001b[0m\n",
      "\u001b[34m[04/26/2022 23:51:48 INFO 140612709816128] Saved checkpoint to \"/tmp/tmpowz3nj87/mx-mod-0000.params\"\u001b[0m\n",
      "\u001b[34m[04/26/2022 23:51:48 INFO 140612709816128] Early stop condition met. Stopping training.\u001b[0m\n",
      "\u001b[34m[04/26/2022 23:51:48 INFO 140612709816128] #progress_metric: host=algo-1, completed 100 % epochs\u001b[0m\n",
      "\u001b[34m#metrics {\"StartTime\": 1651017108.2745998, \"EndTime\": 1651017108.4327617, \"Dimensions\": {\"Algorithm\": \"Linear Learner\", \"Host\": \"algo-1\", \"Operation\": \"training\", \"epoch\": 6, \"Meta\": \"training_data_iter\"}, \"Metrics\": {\"Total Records Seen\": {\"sum\": 2524.0, \"count\": 1, \"min\": 2524, \"max\": 2524}, \"Total Batches Seen\": {\"sum\": 33.0, \"count\": 1, \"min\": 33, \"max\": 33}, \"Max Records Seen Between Resets\": {\"sum\": 303.0, \"count\": 1, \"min\": 303, \"max\": 303}, \"Max Batches Seen Between Resets\": {\"sum\": 4.0, \"count\": 1, \"min\": 4, \"max\": 4}, \"Reset Count\": {\"sum\": 9.0, \"count\": 1, \"min\": 9, \"max\": 9}, \"Number of Records Since Last Reset\": {\"sum\": 303.0, \"count\": 1, \"min\": 303, \"max\": 303}, \"Number of Batches Since Last Reset\": {\"sum\": 4.0, \"count\": 1, \"min\": 4, \"max\": 4}}}\u001b[0m\n",
      "\u001b[34m[04/26/2022 23:51:48 INFO 140612709816128] #throughput_metric: host=algo-1, train throughput=1914.0073917221146 records/second\u001b[0m\n",
      "\u001b[34m[04/26/2022 23:51:48 WARNING 140612709816128] wait_for_all_workers will not sync workers since the kv store is not running distributed\u001b[0m\n",
      "\u001b[34m[04/26/2022 23:51:48 WARNING 140612709816128] wait_for_all_workers will not sync workers since the kv store is not running distributed\u001b[0m\n",
      "\u001b[34m[2022-04-26 23:51:48.434] [tensorio] [info] epoch_stats={\"data_pipeline\": \"/opt/ml/input/data/train\", \"epoch\": 18, \"duration\": 0, \"num_examples\": 1, \"num_bytes\": 9600}\u001b[0m\n",
      "\u001b[34m[2022-04-26 23:51:48.644] [tensorio] [info] epoch_stats={\"data_pipeline\": \"/opt/ml/input/data/train\", \"epoch\": 21, \"duration\": 205, \"num_examples\": 4, \"num_bytes\": 29088}\u001b[0m\n",
      "\u001b[34m[2022-04-26 23:51:48.690] [tensorio] [info] epoch_stats={\"data_pipeline\": \"/opt/ml/input/data/train\", \"epoch\": 23, \"duration\": 23, \"num_examples\": 4, \"num_bytes\": 29088}\u001b[0m\n",
      "\u001b[34m[04/26/2022 23:51:48 INFO 140612709816128] #train_score (algo-1) : ('binary_classification_cross_entropy_objective', 0.3711750318508337)\u001b[0m\n",
      "\u001b[34m[04/26/2022 23:51:48 INFO 140612709816128] #train_score (algo-1) : ('binary_classification_accuracy', 0.8415841584158416)\u001b[0m\n",
      "\u001b[34m[04/26/2022 23:51:48 INFO 140612709816128] #train_score (algo-1) : ('binary_f_1.000', 0.8554216867469879)\u001b[0m\n",
      "\u001b[34m[04/26/2022 23:51:48 INFO 140612709816128] #train_score (algo-1) : ('precision', 0.8502994011976048)\u001b[0m\n",
      "\u001b[34m[04/26/2022 23:51:48 INFO 140612709816128] #train_score (algo-1) : ('recall', 0.8606060606060606)\u001b[0m\n",
      "\u001b[34m[04/26/2022 23:51:48 INFO 140612709816128] #train_score (algo-1) : ('roc_auc_score', 0.9148001756697409)\u001b[0m\n",
      "\u001b[34m[04/26/2022 23:51:48 INFO 140612709816128] #train_score (algo-1) : ('binary_balanced_accuracy', 0.5)\u001b[0m\n",
      "\u001b[34m[04/26/2022 23:51:48 INFO 140612709816128] #train_score (algo-1) : ('binary_log_loss', 0.5815163359978306)\u001b[0m\n",
      "\u001b[34m[04/26/2022 23:51:48 INFO 140612709816128] #quality_metric: host=algo-1, train binary_classification_cross_entropy_objective <loss>=0.3711750318508337\u001b[0m\n",
      "\u001b[34m[04/26/2022 23:51:48 INFO 140612709816128] #quality_metric: host=algo-1, train binary_classification_accuracy <score>=0.8415841584158416\u001b[0m\n",
      "\u001b[34m[04/26/2022 23:51:48 INFO 140612709816128] #quality_metric: host=algo-1, train binary_f_1.000 <score>=0.8554216867469879\u001b[0m\n",
      "\u001b[34m[04/26/2022 23:51:48 INFO 140612709816128] #quality_metric: host=algo-1, train precision <score>=0.8502994011976048\u001b[0m\n",
      "\u001b[34m[04/26/2022 23:51:48 INFO 140612709816128] #quality_metric: host=algo-1, train recall <score>=0.8606060606060606\u001b[0m\n",
      "\u001b[34m[04/26/2022 23:51:48 INFO 140612709816128] #quality_metric: host=algo-1, train roc_auc_score <score>=0.9148001756697409\u001b[0m\n",
      "\u001b[34m[04/26/2022 23:51:48 INFO 140612709816128] #quality_metric: host=algo-1, train binary_balanced_accuracy <score>=0.5\u001b[0m\n",
      "\u001b[34m[04/26/2022 23:51:48 INFO 140612709816128] #quality_metric: host=algo-1, train binary_log_loss <score>=0.5815163359978306\u001b[0m\n",
      "\u001b[34m[04/26/2022 23:51:48 INFO 140612709816128] Best model found for hyperparameters: {\"optimizer\": \"adam\", \"learning_rate\": 0.1, \"wd\": 0.0001, \"l1\": 0.0, \"lr_scheduler_step\": 100, \"lr_scheduler_factor\": 0.99, \"lr_scheduler_minimum_lr\": 1e-05}\u001b[0m\n",
      "\u001b[34m[04/26/2022 23:51:48 INFO 140612709816128] Saved checkpoint to \"/tmp/tmpfmiv6yrp/mx-mod-0000.params\"\u001b[0m\n",
      "\u001b[34m[04/26/2022 23:51:48 INFO 140612709816128] Test data is not provided.\u001b[0m\n",
      "\u001b[34m#metrics {\"StartTime\": 1651017107.0445912, \"EndTime\": 1651017108.7234952, \"Dimensions\": {\"Algorithm\": \"Linear Learner\", \"Host\": \"algo-1\", \"Operation\": \"training\"}, \"Metrics\": {\"initialize.time\": {\"sum\": 254.87947463989258, \"count\": 1, \"min\": 254.87947463989258, \"max\": 254.87947463989258}, \"epochs\": {\"sum\": 15.0, \"count\": 1, \"min\": 15, \"max\": 15}, \"check_early_stopping.time\": {\"sum\": 4.445552825927734, \"count\": 7, \"min\": 0.20766258239746094, \"max\": 1.3108253479003906}, \"update.time\": {\"sum\": 1097.3281860351562, \"count\": 7, \"min\": 139.65201377868652, \"max\": 172.67584800720215}, \"finalize.time\": {\"sum\": 283.5268974304199, \"count\": 1, \"min\": 283.5268974304199, \"max\": 283.5268974304199}, \"setuptime\": {\"sum\": 29.518604278564453, \"count\": 1, \"min\": 29.518604278564453, \"max\": 29.518604278564453}, \"totaltime\": {\"sum\": 1942.1954154968262, \"count\": 1, \"min\": 1942.1954154968262, \"max\": 1942.1954154968262}}}\u001b[0m\n",
      "\u001b[34m[04/26/2022 23:51:48 INFO 140612709816128 integration.py:636] worker closed\u001b[0m\n",
      "\n",
      "2022-04-26 23:52:07 Completed - Training job completed\n",
      "Training seconds: 88\n",
      "Billable seconds: 88\n"
     ]
    }
   ],
   "source": [
    "from sagemaker.amazon.amazon_estimator import get_image_uri\n",
    "import sagemaker\n",
    "\n",
    "container = get_image_uri(boto3.Session().region_name, 'xgboost-learner', \"latest\")\n",
    "\n",
    "sess = sagemaker.Session()\n",
    "linear = sagemaker.estimator.Estimator(container,\n",
    "                                       role, \n",
    "                                       train_instance_count=1, \n",
    "                                       train_instance_type='ml.c4.xlarge',\n",
    "                                       output_path=output_location,\n",
    "                                       sagemaker_session=sess)\n",
    "linear.set_hyperparameters(feature_dim=13,\n",
    "                           predictor_type='binary_classifier',\n",
    "                           mini_batch_size=100)\n",
    "\n",
    "linear.fit({'train': s3_train_data})"
   ]
  },
  {
   "cell_type": "code",
   "execution_count": 7,
   "metadata": {},
   "outputs": [
    {
     "name": "stdout",
     "output_type": "stream",
     "text": [
      "----------!"
     ]
    }
   ],
   "source": [
    "heartdisease_predictor = linear.deploy(initial_instance_count=1,\n",
    "                                 instance_type='ml.m4.xlarge')"
   ]
  },
  {
   "cell_type": "code",
   "execution_count": 10,
   "metadata": {},
   "outputs": [],
   "source": [
    "from sagemaker.predictor import csv_serializer, json_deserializer\n",
    "\n",
    "# heartdisease_predictor.content_type = 'text/csv'\n",
    "heartdisease_predictor.serializer = csv_serializer\n",
    "heartdisease_predictor.deserializer = json_deserializer"
   ]
  },
  {
   "cell_type": "raw",
   "metadata": {},
   "source": [
    "Let's print out the endpoint that we will be invoking"
   ]
  },
  {
   "cell_type": "code",
   "execution_count": 11,
   "metadata": {},
   "outputs": [
    {
     "name": "stderr",
     "output_type": "stream",
     "text": [
      "The endpoint attribute has been renamed in sagemaker>=2.\n",
      "See: https://sagemaker.readthedocs.io/en/stable/v2.html for details.\n"
     ]
    },
    {
     "name": "stdout",
     "output_type": "stream",
     "text": [
      "Endpoint name: linear-learner-2022-04-26-23-52-37-369\n"
     ]
    }
   ],
   "source": [
    "print('Endpoint name: {}'.format(heartdisease_predictor.endpoint))"
   ]
  },
  {
   "cell_type": "markdown",
   "metadata": {},
   "source": [
    "Let's try passing the following sample data for testing. This is a single record from the file"
   ]
  },
  {
   "cell_type": "code",
   "execution_count": 12,
   "metadata": {},
   "outputs": [
    {
     "data": {
      "text/plain": [
       "array([ 57. ,   1. ,   0. , 140. , 192. ,   0. ,   1. , 148. ,   0. ,\n",
       "         0.4,   1. ,   0. ,   1. ], dtype=float32)"
      ]
     },
     "execution_count": 12,
     "metadata": {},
     "output_type": "execute_result"
    }
   ],
   "source": [
    "vectors[5][0:13]"
   ]
  },
  {
   "cell_type": "raw",
   "metadata": {},
   "source": [
    "It's preicdtion time !  Let's see what our model predicts with the given data.\n",
    "You should see a prediction score approximately 82 percent accuracy and label value of 1 (indicates heart disease)."
   ]
  },
  {
   "cell_type": "code",
   "execution_count": 13,
   "metadata": {},
   "outputs": [
    {
     "name": "stderr",
     "output_type": "stream",
     "text": [
      "The csv_serializer has been renamed in sagemaker>=2.\n",
      "See: https://sagemaker.readthedocs.io/en/stable/v2.html for details.\n",
      "The json_deserializer has been renamed in sagemaker>=2.\n",
      "See: https://sagemaker.readthedocs.io/en/stable/v2.html for details.\n"
     ]
    },
    {
     "name": "stdout",
     "output_type": "stream",
     "text": [
      "{'predictions': [{'score': 0.8270459771156311, 'predicted_label': 1}]}\n"
     ]
    }
   ],
   "source": [
    "result = heartdisease_predictor.predict(vectors[5][0:13])\n",
    "print(result)"
   ]
  },
  {
   "cell_type": "code",
   "execution_count": 14,
   "metadata": {},
   "outputs": [
    {
     "name": "stderr",
     "output_type": "stream",
     "text": [
      "The endpoint attribute has been renamed in sagemaker>=2.\n",
      "See: https://sagemaker.readthedocs.io/en/stable/v2.html for details.\n"
     ]
    }
   ],
   "source": [
    "# import sagemaker\n",
    "\n",
    "# sagemaker.Session().delete_endpoint(heartdisease_predictor.endpoint)"
   ]
  }
 ],
 "metadata": {
  "celltoolbar": "Tags",
  "kernelspec": {
   "display_name": "Python 3",
   "language": "python",
   "name": "python3"
  },
  "language_info": {
   "codemirror_mode": {
    "name": "ipython",
    "version": 3
   },
   "file_extension": ".py",
   "mimetype": "text/x-python",
   "name": "python",
   "nbconvert_exporter": "python",
   "pygments_lexer": "ipython3",
   "version": "3.8.8"
  },
  "notice": "Copyright 2017 Amazon.com, Inc. or its affiliates. All Rights Reserved.  Licensed under the Apache License, Version 2.0 (the \"License\"). You may not use this file except in compliance with the License. A copy of the License is located at http://aws.amazon.com/apache2.0/ or in the \"license\" file accompanying this file. This file is distributed on an \"AS IS\" BASIS, WITHOUT WARRANTIES OR CONDITIONS OF ANY KIND, either express or implied. See the License for the specific language governing permissions and limitations under the License."
 },
 "nbformat": 4,
 "nbformat_minor": 4
}
